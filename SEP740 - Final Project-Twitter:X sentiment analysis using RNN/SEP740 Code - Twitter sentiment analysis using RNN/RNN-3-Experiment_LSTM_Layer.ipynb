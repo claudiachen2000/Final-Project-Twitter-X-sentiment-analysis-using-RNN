{
 "cells": [
  {
   "cell_type": "code",
   "execution_count": 57,
   "metadata": {
    "ExecuteTime": {
     "end_time": "2025-03-24T08:44:42.099919Z",
     "start_time": "2025-03-24T08:44:42.094451Z"
    },
    "id": "YeuAheYyhdZw"
   },
   "outputs": [],
   "source": [
    "# import libraries\n",
    "# DataFrame\n",
    "import pandas as pd\n",
    "\n",
    "# plotting\n",
    "import seaborn as sns\n",
    "from wordcloud import WordCloud\n",
    "import matplotlib.pyplot as plt\n",
    "\n",
    "# nltk\n",
    "import nltk\n",
    "from nltk.stem import WordNetLemmatizer\n",
    "from nltk.corpus import stopwords\n",
    "from nltk.tokenize import word_tokenize\n",
    "\n",
    "# sklearny\n",
    "from sklearn.model_selection import train_test_split\n",
    "from sklearn.feature_extraction.text import TfidfVectorizer\n",
    "from sklearn.metrics import confusion_matrix, classification_report\n",
    "\n",
    "from sklearn.linear_model import LogisticRegression\n",
    "from sklearn.svm import LinearSVC\n",
    "from sklearn.ensemble import RandomForestClassifier\n",
    "from sklearn.naive_bayes import BernoulliNB\n",
    "\n",
    "\n",
    "#tensorflow\n",
    "import tensorflow.compat.v2 as tf\n",
    "import tensorflow_datasets as tfds\n",
    "\n",
    "# Utility\n",
    "import pandas as pd\n",
    "import numpy as np\n",
    "import warnings\n",
    "warnings.filterwarnings('ignore')\n",
    "import re\n",
    "import string\n",
    "import pickle"
   ]
  },
  {
   "cell_type": "markdown",
   "metadata": {},
   "source": [
    "# Loading Dataset"
   ]
  },
  {
   "cell_type": "code",
   "execution_count": 58,
   "metadata": {
    "ExecuteTime": {
     "end_time": "2025-03-24T08:44:45.246082Z",
     "start_time": "2025-03-24T08:44:42.112377Z"
    }
   },
   "outputs": [
    {
     "data": {
      "text/html": [
       "<div>\n",
       "<style scoped>\n",
       "    .dataframe tbody tr th:only-of-type {\n",
       "        vertical-align: middle;\n",
       "    }\n",
       "\n",
       "    .dataframe tbody tr th {\n",
       "        vertical-align: top;\n",
       "    }\n",
       "\n",
       "    .dataframe thead th {\n",
       "        text-align: right;\n",
       "    }\n",
       "</style>\n",
       "<table border=\"1\" class=\"dataframe\">\n",
       "  <thead>\n",
       "    <tr style=\"text-align: right;\">\n",
       "      <th></th>\n",
       "      <th>polarity</th>\n",
       "      <th>id</th>\n",
       "      <th>date</th>\n",
       "      <th>query</th>\n",
       "      <th>user</th>\n",
       "      <th>text</th>\n",
       "    </tr>\n",
       "  </thead>\n",
       "  <tbody>\n",
       "    <tr>\n",
       "      <th>1586564</th>\n",
       "      <td>4</td>\n",
       "      <td>2190822209</td>\n",
       "      <td>Tue Jun 16 03:49:24 PDT 2009</td>\n",
       "      <td>NO_QUERY</td>\n",
       "      <td>Alex_Clough</td>\n",
       "      <td>...went to New Emperor as it was still open  V...</td>\n",
       "    </tr>\n",
       "    <tr>\n",
       "      <th>1593258</th>\n",
       "      <td>4</td>\n",
       "      <td>2191903014</td>\n",
       "      <td>Tue Jun 16 06:10:21 PDT 2009</td>\n",
       "      <td>NO_QUERY</td>\n",
       "      <td>LeahChantelle</td>\n",
       "      <td>@lickmycupcakes Yay!!! It worked!! And thank y...</td>\n",
       "    </tr>\n",
       "    <tr>\n",
       "      <th>250171</th>\n",
       "      <td>0</td>\n",
       "      <td>1983150308</td>\n",
       "      <td>Sun May 31 12:36:04 PDT 2009</td>\n",
       "      <td>NO_QUERY</td>\n",
       "      <td>YesDiva32</td>\n",
       "      <td>@Mister_82 don't b hatin on my Mira Mira music</td>\n",
       "    </tr>\n",
       "    <tr>\n",
       "      <th>774617</th>\n",
       "      <td>0</td>\n",
       "      <td>2321582236</td>\n",
       "      <td>Wed Jun 24 21:15:45 PDT 2009</td>\n",
       "      <td>NO_QUERY</td>\n",
       "      <td>_WorldsApart_</td>\n",
       "      <td>Where were u when #BPD broke 1,000 users onlin...</td>\n",
       "    </tr>\n",
       "    <tr>\n",
       "      <th>219640</th>\n",
       "      <td>0</td>\n",
       "      <td>1976442803</td>\n",
       "      <td>Sat May 30 17:20:29 PDT 2009</td>\n",
       "      <td>NO_QUERY</td>\n",
       "      <td>greatbrytton</td>\n",
       "      <td>I really just want to be out of Dothan...more ...</td>\n",
       "    </tr>\n",
       "    <tr>\n",
       "      <th>364854</th>\n",
       "      <td>0</td>\n",
       "      <td>2048346997</td>\n",
       "      <td>Fri Jun 05 15:03:16 PDT 2009</td>\n",
       "      <td>NO_QUERY</td>\n",
       "      <td>MsCherrylicious</td>\n",
       "      <td>Fml got suckered into working til 930 and I'm ...</td>\n",
       "    </tr>\n",
       "    <tr>\n",
       "      <th>1081037</th>\n",
       "      <td>4</td>\n",
       "      <td>1968400415</td>\n",
       "      <td>Fri May 29 21:21:32 PDT 2009</td>\n",
       "      <td>NO_QUERY</td>\n",
       "      <td>pennamico</td>\n",
       "      <td>@aalmishal ???? ?? ?????  ????? ????? ?????? ?...</td>\n",
       "    </tr>\n",
       "    <tr>\n",
       "      <th>352747</th>\n",
       "      <td>0</td>\n",
       "      <td>2031275962</td>\n",
       "      <td>Thu Jun 04 09:35:12 PDT 2009</td>\n",
       "      <td>NO_QUERY</td>\n",
       "      <td>darlingroland</td>\n",
       "      <td>Today I could go get my new phone, probably wo...</td>\n",
       "    </tr>\n",
       "    <tr>\n",
       "      <th>804759</th>\n",
       "      <td>4</td>\n",
       "      <td>1468569254</td>\n",
       "      <td>Tue Apr 07 02:28:17 PDT 2009</td>\n",
       "      <td>NO_QUERY</td>\n",
       "      <td>Scyranth</td>\n",
       "      <td>@SexySubKaylee heh heh dirty is always good gu...</td>\n",
       "    </tr>\n",
       "    <tr>\n",
       "      <th>903760</th>\n",
       "      <td>4</td>\n",
       "      <td>1694686706</td>\n",
       "      <td>Mon May 04 03:43:12 PDT 2009</td>\n",
       "      <td>NO_QUERY</td>\n",
       "      <td>LmaonadeStand</td>\n",
       "      <td>No school today - Not because of &amp;quot;H1N1&amp;qu...</td>\n",
       "    </tr>\n",
       "  </tbody>\n",
       "</table>\n",
       "</div>"
      ],
      "text/plain": [
       "         polarity          id                          date     query  \\\n",
       "1586564         4  2190822209  Tue Jun 16 03:49:24 PDT 2009  NO_QUERY   \n",
       "1593258         4  2191903014  Tue Jun 16 06:10:21 PDT 2009  NO_QUERY   \n",
       "250171          0  1983150308  Sun May 31 12:36:04 PDT 2009  NO_QUERY   \n",
       "774617          0  2321582236  Wed Jun 24 21:15:45 PDT 2009  NO_QUERY   \n",
       "219640          0  1976442803  Sat May 30 17:20:29 PDT 2009  NO_QUERY   \n",
       "364854          0  2048346997  Fri Jun 05 15:03:16 PDT 2009  NO_QUERY   \n",
       "1081037         4  1968400415  Fri May 29 21:21:32 PDT 2009  NO_QUERY   \n",
       "352747          0  2031275962  Thu Jun 04 09:35:12 PDT 2009  NO_QUERY   \n",
       "804759          4  1468569254  Tue Apr 07 02:28:17 PDT 2009  NO_QUERY   \n",
       "903760          4  1694686706  Mon May 04 03:43:12 PDT 2009  NO_QUERY   \n",
       "\n",
       "                    user                                               text  \n",
       "1586564      Alex_Clough  ...went to New Emperor as it was still open  V...  \n",
       "1593258    LeahChantelle  @lickmycupcakes Yay!!! It worked!! And thank y...  \n",
       "250171         YesDiva32    @Mister_82 don't b hatin on my Mira Mira music   \n",
       "774617     _WorldsApart_  Where were u when #BPD broke 1,000 users onlin...  \n",
       "219640      greatbrytton  I really just want to be out of Dothan...more ...  \n",
       "364854   MsCherrylicious  Fml got suckered into working til 930 and I'm ...  \n",
       "1081037        pennamico  @aalmishal ???? ?? ?????  ????? ????? ?????? ?...  \n",
       "352747     darlingroland  Today I could go get my new phone, probably wo...  \n",
       "804759          Scyranth  @SexySubKaylee heh heh dirty is always good gu...  \n",
       "903760     LmaonadeStand  No school today - Not because of &quot;H1N1&qu...  "
      ]
     },
     "execution_count": 58,
     "metadata": {},
     "output_type": "execute_result"
    }
   ],
   "source": [
    "# Construct a tf.data.Dataset\n",
    "data = pd.read_csv('training.1600000.processed.noemoticon.csv',encoding='latin', names = ['polarity','id','date','query','user','text'])\n",
    "# Random shuffling of data, select the first 200,000\n",
    "data = data.sample(frac=1,random_state=740)\n",
    "data = data[:20000]\n",
    "data.head(10)"
   ]
  },
  {
   "cell_type": "markdown",
   "metadata": {},
   "source": [
    "# Data Visualization"
   ]
  },
  {
   "cell_type": "code",
   "execution_count": 59,
   "metadata": {
    "ExecuteTime": {
     "end_time": "2025-03-24T08:44:45.289440Z",
     "start_time": "2025-03-24T08:44:45.286432Z"
    },
    "scrolled": false
   },
   "outputs": [
    {
     "name": "stdout",
     "output_type": "stream",
     "text": [
      "Dataset shape: (20000, 6)\n"
     ]
    }
   ],
   "source": [
    "print(\"Dataset shape:\", data.shape)"
   ]
  },
  {
   "cell_type": "code",
   "execution_count": 60,
   "metadata": {
    "ExecuteTime": {
     "end_time": "2025-03-24T08:44:45.351245Z",
     "start_time": "2025-03-24T08:44:45.345207Z"
    }
   },
   "outputs": [
    {
     "data": {
      "text/html": [
       "<div>\n",
       "<style scoped>\n",
       "    .dataframe tbody tr th:only-of-type {\n",
       "        vertical-align: middle;\n",
       "    }\n",
       "\n",
       "    .dataframe tbody tr th {\n",
       "        vertical-align: top;\n",
       "    }\n",
       "\n",
       "    .dataframe thead th {\n",
       "        text-align: right;\n",
       "    }\n",
       "</style>\n",
       "<table border=\"1\" class=\"dataframe\">\n",
       "  <thead>\n",
       "    <tr style=\"text-align: right;\">\n",
       "      <th></th>\n",
       "      <th>polarity</th>\n",
       "      <th>id</th>\n",
       "      <th>date</th>\n",
       "      <th>query</th>\n",
       "      <th>user</th>\n",
       "      <th>text</th>\n",
       "    </tr>\n",
       "  </thead>\n",
       "  <tbody>\n",
       "    <tr>\n",
       "      <th>1586564</th>\n",
       "      <td>4</td>\n",
       "      <td>2190822209</td>\n",
       "      <td>Tue Jun 16 03:49:24 PDT 2009</td>\n",
       "      <td>NO_QUERY</td>\n",
       "      <td>Alex_Clough</td>\n",
       "      <td>...went to New Emperor as it was still open  V...</td>\n",
       "    </tr>\n",
       "    <tr>\n",
       "      <th>1593258</th>\n",
       "      <td>4</td>\n",
       "      <td>2191903014</td>\n",
       "      <td>Tue Jun 16 06:10:21 PDT 2009</td>\n",
       "      <td>NO_QUERY</td>\n",
       "      <td>LeahChantelle</td>\n",
       "      <td>@lickmycupcakes Yay!!! It worked!! And thank y...</td>\n",
       "    </tr>\n",
       "    <tr>\n",
       "      <th>250171</th>\n",
       "      <td>0</td>\n",
       "      <td>1983150308</td>\n",
       "      <td>Sun May 31 12:36:04 PDT 2009</td>\n",
       "      <td>NO_QUERY</td>\n",
       "      <td>YesDiva32</td>\n",
       "      <td>@Mister_82 don't b hatin on my Mira Mira music</td>\n",
       "    </tr>\n",
       "    <tr>\n",
       "      <th>774617</th>\n",
       "      <td>0</td>\n",
       "      <td>2321582236</td>\n",
       "      <td>Wed Jun 24 21:15:45 PDT 2009</td>\n",
       "      <td>NO_QUERY</td>\n",
       "      <td>_WorldsApart_</td>\n",
       "      <td>Where were u when #BPD broke 1,000 users onlin...</td>\n",
       "    </tr>\n",
       "    <tr>\n",
       "      <th>219640</th>\n",
       "      <td>0</td>\n",
       "      <td>1976442803</td>\n",
       "      <td>Sat May 30 17:20:29 PDT 2009</td>\n",
       "      <td>NO_QUERY</td>\n",
       "      <td>greatbrytton</td>\n",
       "      <td>I really just want to be out of Dothan...more ...</td>\n",
       "    </tr>\n",
       "    <tr>\n",
       "      <th>364854</th>\n",
       "      <td>0</td>\n",
       "      <td>2048346997</td>\n",
       "      <td>Fri Jun 05 15:03:16 PDT 2009</td>\n",
       "      <td>NO_QUERY</td>\n",
       "      <td>MsCherrylicious</td>\n",
       "      <td>Fml got suckered into working til 930 and I'm ...</td>\n",
       "    </tr>\n",
       "    <tr>\n",
       "      <th>1081037</th>\n",
       "      <td>4</td>\n",
       "      <td>1968400415</td>\n",
       "      <td>Fri May 29 21:21:32 PDT 2009</td>\n",
       "      <td>NO_QUERY</td>\n",
       "      <td>pennamico</td>\n",
       "      <td>@aalmishal ???? ?? ?????  ????? ????? ?????? ?...</td>\n",
       "    </tr>\n",
       "    <tr>\n",
       "      <th>352747</th>\n",
       "      <td>0</td>\n",
       "      <td>2031275962</td>\n",
       "      <td>Thu Jun 04 09:35:12 PDT 2009</td>\n",
       "      <td>NO_QUERY</td>\n",
       "      <td>darlingroland</td>\n",
       "      <td>Today I could go get my new phone, probably wo...</td>\n",
       "    </tr>\n",
       "    <tr>\n",
       "      <th>804759</th>\n",
       "      <td>4</td>\n",
       "      <td>1468569254</td>\n",
       "      <td>Tue Apr 07 02:28:17 PDT 2009</td>\n",
       "      <td>NO_QUERY</td>\n",
       "      <td>Scyranth</td>\n",
       "      <td>@SexySubKaylee heh heh dirty is always good gu...</td>\n",
       "    </tr>\n",
       "    <tr>\n",
       "      <th>903760</th>\n",
       "      <td>4</td>\n",
       "      <td>1694686706</td>\n",
       "      <td>Mon May 04 03:43:12 PDT 2009</td>\n",
       "      <td>NO_QUERY</td>\n",
       "      <td>LmaonadeStand</td>\n",
       "      <td>No school today - Not because of &amp;quot;H1N1&amp;qu...</td>\n",
       "    </tr>\n",
       "  </tbody>\n",
       "</table>\n",
       "</div>"
      ],
      "text/plain": [
       "         polarity          id                          date     query  \\\n",
       "1586564         4  2190822209  Tue Jun 16 03:49:24 PDT 2009  NO_QUERY   \n",
       "1593258         4  2191903014  Tue Jun 16 06:10:21 PDT 2009  NO_QUERY   \n",
       "250171          0  1983150308  Sun May 31 12:36:04 PDT 2009  NO_QUERY   \n",
       "774617          0  2321582236  Wed Jun 24 21:15:45 PDT 2009  NO_QUERY   \n",
       "219640          0  1976442803  Sat May 30 17:20:29 PDT 2009  NO_QUERY   \n",
       "364854          0  2048346997  Fri Jun 05 15:03:16 PDT 2009  NO_QUERY   \n",
       "1081037         4  1968400415  Fri May 29 21:21:32 PDT 2009  NO_QUERY   \n",
       "352747          0  2031275962  Thu Jun 04 09:35:12 PDT 2009  NO_QUERY   \n",
       "804759          4  1468569254  Tue Apr 07 02:28:17 PDT 2009  NO_QUERY   \n",
       "903760          4  1694686706  Mon May 04 03:43:12 PDT 2009  NO_QUERY   \n",
       "\n",
       "                    user                                               text  \n",
       "1586564      Alex_Clough  ...went to New Emperor as it was still open  V...  \n",
       "1593258    LeahChantelle  @lickmycupcakes Yay!!! It worked!! And thank y...  \n",
       "250171         YesDiva32    @Mister_82 don't b hatin on my Mira Mira music   \n",
       "774617     _WorldsApart_  Where were u when #BPD broke 1,000 users onlin...  \n",
       "219640      greatbrytton  I really just want to be out of Dothan...more ...  \n",
       "364854   MsCherrylicious  Fml got suckered into working til 930 and I'm ...  \n",
       "1081037        pennamico  @aalmishal ???? ?? ?????  ????? ????? ?????? ?...  \n",
       "352747     darlingroland  Today I could go get my new phone, probably wo...  \n",
       "804759          Scyranth  @SexySubKaylee heh heh dirty is always good gu...  \n",
       "903760     LmaonadeStand  No school today - Not because of &quot;H1N1&qu...  "
      ]
     },
     "execution_count": 60,
     "metadata": {},
     "output_type": "execute_result"
    }
   ],
   "source": [
    "data.head(10)"
   ]
  },
  {
   "cell_type": "code",
   "execution_count": 61,
   "metadata": {
    "ExecuteTime": {
     "end_time": "2025-03-24T08:44:45.429298Z",
     "start_time": "2025-03-24T08:44:45.425401Z"
    }
   },
   "outputs": [
    {
     "data": {
      "text/plain": [
       "array([4, 0])"
      ]
     },
     "execution_count": 61,
     "metadata": {},
     "output_type": "execute_result"
    }
   ],
   "source": [
    "data['polarity'].unique()"
   ]
  },
  {
   "cell_type": "code",
   "execution_count": 62,
   "metadata": {
    "ExecuteTime": {
     "end_time": "2025-03-24T08:44:45.484916Z",
     "start_time": "2025-03-24T08:44:45.478715Z"
    },
    "scrolled": true
   },
   "outputs": [
    {
     "data": {
      "text/html": [
       "<div>\n",
       "<style scoped>\n",
       "    .dataframe tbody tr th:only-of-type {\n",
       "        vertical-align: middle;\n",
       "    }\n",
       "\n",
       "    .dataframe tbody tr th {\n",
       "        vertical-align: top;\n",
       "    }\n",
       "\n",
       "    .dataframe thead th {\n",
       "        text-align: right;\n",
       "    }\n",
       "</style>\n",
       "<table border=\"1\" class=\"dataframe\">\n",
       "  <thead>\n",
       "    <tr style=\"text-align: right;\">\n",
       "      <th></th>\n",
       "      <th>polarity</th>\n",
       "      <th>id</th>\n",
       "      <th>date</th>\n",
       "      <th>query</th>\n",
       "      <th>user</th>\n",
       "      <th>text</th>\n",
       "    </tr>\n",
       "  </thead>\n",
       "  <tbody>\n",
       "    <tr>\n",
       "      <th>1586564</th>\n",
       "      <td>1</td>\n",
       "      <td>2190822209</td>\n",
       "      <td>Tue Jun 16 03:49:24 PDT 2009</td>\n",
       "      <td>NO_QUERY</td>\n",
       "      <td>Alex_Clough</td>\n",
       "      <td>...went to New Emperor as it was still open  V...</td>\n",
       "    </tr>\n",
       "    <tr>\n",
       "      <th>1593258</th>\n",
       "      <td>1</td>\n",
       "      <td>2191903014</td>\n",
       "      <td>Tue Jun 16 06:10:21 PDT 2009</td>\n",
       "      <td>NO_QUERY</td>\n",
       "      <td>LeahChantelle</td>\n",
       "      <td>@lickmycupcakes Yay!!! It worked!! And thank y...</td>\n",
       "    </tr>\n",
       "    <tr>\n",
       "      <th>250171</th>\n",
       "      <td>0</td>\n",
       "      <td>1983150308</td>\n",
       "      <td>Sun May 31 12:36:04 PDT 2009</td>\n",
       "      <td>NO_QUERY</td>\n",
       "      <td>YesDiva32</td>\n",
       "      <td>@Mister_82 don't b hatin on my Mira Mira music</td>\n",
       "    </tr>\n",
       "    <tr>\n",
       "      <th>774617</th>\n",
       "      <td>0</td>\n",
       "      <td>2321582236</td>\n",
       "      <td>Wed Jun 24 21:15:45 PDT 2009</td>\n",
       "      <td>NO_QUERY</td>\n",
       "      <td>_WorldsApart_</td>\n",
       "      <td>Where were u when #BPD broke 1,000 users onlin...</td>\n",
       "    </tr>\n",
       "    <tr>\n",
       "      <th>219640</th>\n",
       "      <td>0</td>\n",
       "      <td>1976442803</td>\n",
       "      <td>Sat May 30 17:20:29 PDT 2009</td>\n",
       "      <td>NO_QUERY</td>\n",
       "      <td>greatbrytton</td>\n",
       "      <td>I really just want to be out of Dothan...more ...</td>\n",
       "    </tr>\n",
       "  </tbody>\n",
       "</table>\n",
       "</div>"
      ],
      "text/plain": [
       "         polarity          id                          date     query  \\\n",
       "1586564         1  2190822209  Tue Jun 16 03:49:24 PDT 2009  NO_QUERY   \n",
       "1593258         1  2191903014  Tue Jun 16 06:10:21 PDT 2009  NO_QUERY   \n",
       "250171          0  1983150308  Sun May 31 12:36:04 PDT 2009  NO_QUERY   \n",
       "774617          0  2321582236  Wed Jun 24 21:15:45 PDT 2009  NO_QUERY   \n",
       "219640          0  1976442803  Sat May 30 17:20:29 PDT 2009  NO_QUERY   \n",
       "\n",
       "                  user                                               text  \n",
       "1586564    Alex_Clough  ...went to New Emperor as it was still open  V...  \n",
       "1593258  LeahChantelle  @lickmycupcakes Yay!!! It worked!! And thank y...  \n",
       "250171       YesDiva32    @Mister_82 don't b hatin on my Mira Mira music   \n",
       "774617   _WorldsApart_  Where were u when #BPD broke 1,000 users onlin...  \n",
       "219640    greatbrytton  I really just want to be out of Dothan...more ...  "
      ]
     },
     "execution_count": 62,
     "metadata": {},
     "output_type": "execute_result"
    }
   ],
   "source": [
    "# Replacing the value 4 -->1 for ease of understanding.\n",
    "data['polarity'] = data['polarity'].replace(4,1)\n",
    "data.head()"
   ]
  },
  {
   "cell_type": "code",
   "execution_count": 63,
   "metadata": {
    "ExecuteTime": {
     "end_time": "2025-03-24T08:44:45.557650Z",
     "start_time": "2025-03-24T08:44:45.546951Z"
    }
   },
   "outputs": [
    {
     "data": {
      "text/html": [
       "<div>\n",
       "<style scoped>\n",
       "    .dataframe tbody tr th:only-of-type {\n",
       "        vertical-align: middle;\n",
       "    }\n",
       "\n",
       "    .dataframe tbody tr th {\n",
       "        vertical-align: top;\n",
       "    }\n",
       "\n",
       "    .dataframe thead th {\n",
       "        text-align: right;\n",
       "    }\n",
       "</style>\n",
       "<table border=\"1\" class=\"dataframe\">\n",
       "  <thead>\n",
       "    <tr style=\"text-align: right;\">\n",
       "      <th></th>\n",
       "      <th>polarity</th>\n",
       "      <th>id</th>\n",
       "    </tr>\n",
       "  </thead>\n",
       "  <tbody>\n",
       "    <tr>\n",
       "      <th>count</th>\n",
       "      <td>20000.000000</td>\n",
       "      <td>2.000000e+04</td>\n",
       "    </tr>\n",
       "    <tr>\n",
       "      <th>mean</th>\n",
       "      <td>0.494000</td>\n",
       "      <td>1.999987e+09</td>\n",
       "    </tr>\n",
       "    <tr>\n",
       "      <th>std</th>\n",
       "      <td>0.499976</td>\n",
       "      <td>1.951726e+08</td>\n",
       "    </tr>\n",
       "    <tr>\n",
       "      <th>min</th>\n",
       "      <td>0.000000</td>\n",
       "      <td>1.467824e+09</td>\n",
       "    </tr>\n",
       "    <tr>\n",
       "      <th>25%</th>\n",
       "      <td>0.000000</td>\n",
       "      <td>1.956915e+09</td>\n",
       "    </tr>\n",
       "    <tr>\n",
       "      <th>50%</th>\n",
       "      <td>0.000000</td>\n",
       "      <td>2.002387e+09</td>\n",
       "    </tr>\n",
       "    <tr>\n",
       "      <th>75%</th>\n",
       "      <td>1.000000</td>\n",
       "      <td>2.178142e+09</td>\n",
       "    </tr>\n",
       "    <tr>\n",
       "      <th>max</th>\n",
       "      <td>1.000000</td>\n",
       "      <td>2.329143e+09</td>\n",
       "    </tr>\n",
       "  </tbody>\n",
       "</table>\n",
       "</div>"
      ],
      "text/plain": [
       "           polarity            id\n",
       "count  20000.000000  2.000000e+04\n",
       "mean       0.494000  1.999987e+09\n",
       "std        0.499976  1.951726e+08\n",
       "min        0.000000  1.467824e+09\n",
       "25%        0.000000  1.956915e+09\n",
       "50%        0.000000  2.002387e+09\n",
       "75%        1.000000  2.178142e+09\n",
       "max        1.000000  2.329143e+09"
      ]
     },
     "execution_count": 63,
     "metadata": {},
     "output_type": "execute_result"
    }
   ],
   "source": [
    "data.describe()"
   ]
  },
  {
   "cell_type": "code",
   "execution_count": 64,
   "metadata": {
    "ExecuteTime": {
     "end_time": "2025-03-24T08:44:45.627161Z",
     "start_time": "2025-03-24T08:44:45.622318Z"
    }
   },
   "outputs": [
    {
     "name": "stdout",
     "output_type": "stream",
     "text": [
      "Total length of the data is:         20000\n",
      "No. of positve tagged sentences is:  9880\n",
      "No. of negative tagged sentences is: 10120\n"
     ]
    }
   ],
   "source": [
    "# check the number of positive vs. negative tagged sentences\n",
    "positives = data['polarity'][data.polarity == 1 ]\n",
    "negatives = data['polarity'][data.polarity == 0 ]\n",
    "\n",
    "print('Total length of the data is:         {}'.format(data.shape[0]))\n",
    "print('No. of positve tagged sentences is:  {}'.format(len(positives)))\n",
    "print('No. of negative tagged sentences is: {}'.format(len(negatives)))"
   ]
  },
  {
   "cell_type": "code",
   "execution_count": 65,
   "metadata": {
    "ExecuteTime": {
     "end_time": "2025-03-24T08:44:45.681017Z",
     "start_time": "2025-03-24T08:44:45.678570Z"
    }
   },
   "outputs": [],
   "source": [
    "# get a word count per of text\n",
    "def word_count(words):\n",
    "    return len(words.split())"
   ]
  },
  {
   "cell_type": "code",
   "execution_count": 66,
   "metadata": {
    "ExecuteTime": {
     "end_time": "2025-03-24T08:44:45.895556Z",
     "start_time": "2025-03-24T08:44:45.722969Z"
    }
   },
   "outputs": [
    {
     "data": {
      "text/plain": [
       "<matplotlib.legend.Legend at 0x35cb714c0>"
      ]
     },
     "execution_count": 66,
     "metadata": {},
     "output_type": "execute_result"
    },
    {
     "data": {
      "image/png": "[encoded data removed]",
      "text/plain": [
       "<Figure size 1200x600 with 1 Axes>"
      ]
     },
     "metadata": {},
     "output_type": "display_data"
    }
   ],
   "source": [
    "# plot word count distribution for both positive and negative\n",
    "\n",
    "data['word count'] = data['text'].apply(word_count)\n",
    "p = data['word count'][data.polarity == 1]\n",
    "n = data['word count'][data.polarity == 0]\n",
    "plt.figure(figsize=(12,6))\n",
    "plt.xlim(0,45)\n",
    "plt.xlabel('Word count')\n",
    "plt.ylabel('Frequency')\n",
    "g = plt.hist([p, n], color=['g','r'], alpha=0.5, label=['positive','negative'])\n",
    "plt.legend(loc='upper right')"
   ]
  },
  {
   "cell_type": "code",
   "execution_count": 67,
   "metadata": {
    "ExecuteTime": {
     "end_time": "2025-03-24T08:44:45.996227Z",
     "start_time": "2025-03-24T08:44:45.901052Z"
    }
   },
   "outputs": [
    {
     "data": {
      "text/plain": [
       "[('the', 6429),\n",
       " ('and', 3668),\n",
       " ('you', 2974),\n",
       " ('for', 2757),\n",
       " ('have', 1804),\n",
       " ('that', 1621),\n",
       " (\"i'm\", 1582),\n",
       " ('just', 1565),\n",
       " ('but', 1538),\n",
       " ('with', 1481),\n",
       " ('not', 1295),\n",
       " ('was', 1253),\n",
       " ('this', 1098),\n",
       " ('get', 993),\n",
       " ('good', 977),\n",
       " ('are', 949),\n",
       " ('like', 897),\n",
       " ('out', 895),\n",
       " ('all', 879),\n",
       " ('going', 822)]"
      ]
     },
     "execution_count": 67,
     "metadata": {},
     "output_type": "execute_result"
    }
   ],
   "source": [
    "# get common words in training dataset\n",
    "from collections import Counter\n",
    "all_words = []\n",
    "for line in list(data['text']):\n",
    "    words = line.split()\n",
    "    for word in words:\n",
    "      if(len(word)>2):\n",
    "        all_words.append(word.lower())\n",
    "\n",
    "\n",
    "Counter(all_words).most_common(20)"
   ]
  },
  {
   "cell_type": "code",
   "execution_count": 68,
   "metadata": {
    "ExecuteTime": {
     "end_time": "2025-03-24T08:44:46.111350Z",
     "start_time": "2025-03-24T08:44:46.009494Z"
    }
   },
   "outputs": [
    {
     "data": {
      "text/plain": [
       "<Axes: xlabel='polarity', ylabel='count'>"
      ]
     },
     "execution_count": 68,
     "metadata": {},
     "output_type": "execute_result"
    },
    {
     "data": {
      "image/png": "[encoded data removed]",
      "text/plain": [
       "<Figure size 640x480 with 1 Axes>"
      ]
     },
     "metadata": {},
     "output_type": "display_data"
    }
   ],
   "source": [
    "%matplotlib inline\n",
    "sns.countplot(x=data['polarity'])"
   ]
  },
  {
   "cell_type": "markdown",
   "metadata": {},
   "source": [
    "# Data Processing"
   ]
  },
  {
   "cell_type": "code",
   "execution_count": 69,
   "metadata": {
    "ExecuteTime": {
     "end_time": "2025-03-24T08:44:46.133940Z",
     "start_time": "2025-03-24T08:44:46.128823Z"
    }
   },
   "outputs": [],
   "source": [
    "# Removing the unnecessary columns.\n",
    "data.drop(['date','query','user','word count'], axis=1, inplace=True)"
   ]
  },
  {
   "cell_type": "code",
   "execution_count": 70,
   "metadata": {
    "ExecuteTime": {
     "end_time": "2025-03-24T08:44:46.157271Z",
     "start_time": "2025-03-24T08:44:46.148149Z"
    }
   },
   "outputs": [
    {
     "data": {
      "text/html": [
       "<div>\n",
       "<style scoped>\n",
       "    .dataframe tbody tr th:only-of-type {\n",
       "        vertical-align: middle;\n",
       "    }\n",
       "\n",
       "    .dataframe tbody tr th {\n",
       "        vertical-align: top;\n",
       "    }\n",
       "\n",
       "    .dataframe thead th {\n",
       "        text-align: right;\n",
       "    }\n",
       "</style>\n",
       "<table border=\"1\" class=\"dataframe\">\n",
       "  <thead>\n",
       "    <tr style=\"text-align: right;\">\n",
       "      <th></th>\n",
       "      <th>polarity</th>\n",
       "      <th>text</th>\n",
       "    </tr>\n",
       "  </thead>\n",
       "  <tbody>\n",
       "    <tr>\n",
       "      <th>1586564</th>\n",
       "      <td>1</td>\n",
       "      <td>...went to New Emperor as it was still open  V...</td>\n",
       "    </tr>\n",
       "    <tr>\n",
       "      <th>1593258</th>\n",
       "      <td>1</td>\n",
       "      <td>@lickmycupcakes Yay!!! It worked!! And thank y...</td>\n",
       "    </tr>\n",
       "    <tr>\n",
       "      <th>250171</th>\n",
       "      <td>0</td>\n",
       "      <td>@Mister_82 don't b hatin on my Mira Mira music</td>\n",
       "    </tr>\n",
       "    <tr>\n",
       "      <th>774617</th>\n",
       "      <td>0</td>\n",
       "      <td>Where were u when #BPD broke 1,000 users onlin...</td>\n",
       "    </tr>\n",
       "    <tr>\n",
       "      <th>219640</th>\n",
       "      <td>0</td>\n",
       "      <td>I really just want to be out of Dothan...more ...</td>\n",
       "    </tr>\n",
       "    <tr>\n",
       "      <th>364854</th>\n",
       "      <td>0</td>\n",
       "      <td>Fml got suckered into working til 930 and I'm ...</td>\n",
       "    </tr>\n",
       "    <tr>\n",
       "      <th>1081037</th>\n",
       "      <td>1</td>\n",
       "      <td>@aalmishal ???? ?? ?????  ????? ????? ?????? ?...</td>\n",
       "    </tr>\n",
       "    <tr>\n",
       "      <th>352747</th>\n",
       "      <td>0</td>\n",
       "      <td>Today I could go get my new phone, probably wo...</td>\n",
       "    </tr>\n",
       "    <tr>\n",
       "      <th>804759</th>\n",
       "      <td>1</td>\n",
       "      <td>@SexySubKaylee heh heh dirty is always good gu...</td>\n",
       "    </tr>\n",
       "    <tr>\n",
       "      <th>903760</th>\n",
       "      <td>1</td>\n",
       "      <td>No school today - Not because of &amp;quot;H1N1&amp;qu...</td>\n",
       "    </tr>\n",
       "  </tbody>\n",
       "</table>\n",
       "</div>"
      ],
      "text/plain": [
       "         polarity                                               text\n",
       "1586564         1  ...went to New Emperor as it was still open  V...\n",
       "1593258         1  @lickmycupcakes Yay!!! It worked!! And thank y...\n",
       "250171          0    @Mister_82 don't b hatin on my Mira Mira music \n",
       "774617          0  Where were u when #BPD broke 1,000 users onlin...\n",
       "219640          0  I really just want to be out of Dothan...more ...\n",
       "364854          0  Fml got suckered into working til 930 and I'm ...\n",
       "1081037         1  @aalmishal ???? ?? ?????  ????? ????? ?????? ?...\n",
       "352747          0  Today I could go get my new phone, probably wo...\n",
       "804759          1  @SexySubKaylee heh heh dirty is always good gu...\n",
       "903760          1  No school today - Not because of &quot;H1N1&qu..."
      ]
     },
     "execution_count": 70,
     "metadata": {},
     "output_type": "execute_result"
    }
   ],
   "source": [
    "data.drop('id', axis=1, inplace=True)\n",
    "data.head(10)"
   ]
  },
  {
   "cell_type": "code",
   "execution_count": 71,
   "metadata": {
    "ExecuteTime": {
     "end_time": "2025-03-24T08:44:46.218720Z",
     "start_time": "2025-03-24T08:44:46.207313Z"
    }
   },
   "outputs": [
    {
     "data": {
      "text/plain": [
       "polarity    0.0\n",
       "text        0.0\n",
       "dtype: float64"
      ]
     },
     "execution_count": 71,
     "metadata": {},
     "output_type": "execute_result"
    }
   ],
   "source": [
    "#Checking if any null values present\n",
    "(data.isnull().sum() / len(data))*100"
   ]
  },
  {
   "cell_type": "code",
   "execution_count": 72,
   "metadata": {
    "ExecuteTime": {
     "end_time": "2025-03-24T08:44:46.289210Z",
     "start_time": "2025-03-24T08:44:46.285757Z"
    }
   },
   "outputs": [],
   "source": [
    "#convrting pandas object to a string type\n",
    "data['text'] = data['text'].astype('str')"
   ]
  },
  {
   "cell_type": "code",
   "execution_count": 73,
   "metadata": {
    "ExecuteTime": {
     "end_time": "2025-03-24T08:44:46.497974Z",
     "start_time": "2025-03-24T08:44:46.342106Z"
    }
   },
   "outputs": [
    {
     "name": "stdout",
     "output_type": "stream",
     "text": [
      "{'our', 'been', 'my', 'again', \"you're\", \"won't\", 'yourselves', 'their', 'is', 'then', 'who', 'd', 'his', 'hadn', 'only', 'wasn', 'being', \"they'll\", 'how', \"i've\", \"we've\", 'me', 'with', 'before', 'such', 'we', 'are', 'against', \"mustn't\", 'doesn', 'some', 'should', 'in', 'o', 'of', \"should've\", 'she', \"you've\", 'mightn', 'ours', 'an', 'don', 'he', \"hasn't\", 'from', 't', 'above', 'than', 'won', 'll', \"shouldn't\", 'when', 'will', 'just', 'them', 'doing', 'aren', 'few', 're', \"they've\", 'weren', \"he'll\", \"hadn't\", \"it'd\", 'through', 'no', 'into', 'during', 'you', 'after', 'herself', 'haven', 'the', 've', 'once', \"weren't\", 'y', \"she'd\", 'by', 'didn', 'most', \"he's\", \"couldn't\", 'and', \"he'd\", \"they're\", 'whom', 'because', \"haven't\", \"needn't\", 'was', 'but', 'am', 'all', 'so', 'that', 'if', 'isn', 'those', 'ain', 'couldn', 'not', 'it', 'mustn', \"it'll\", \"we'll\", 'yours', \"she'll\", \"wouldn't\", 'further', 'yourself', 'shan', 'itself', 'did', 'her', 'needn', 'to', 'down', 'having', \"i'd\", 'myself', \"doesn't\", 'where', 'its', \"wasn't\", 'themselves', \"didn't\", 'very', 'below', 'there', 'wouldn', 'at', \"we're\", 'himself', \"mightn't\", 'any', 'now', 'a', 'shouldn', 'have', 'between', 'these', 'or', \"you'll\", 'out', 'theirs', 'as', 'him', \"it's\", 'm', 'over', 'up', 'other', 'for', 'both', 'until', 'while', \"isn't\", \"i'm\", 'had', 'own', 'ma', 'what', 'i', 'more', 'they', 'under', \"don't\", 'why', 'hasn', \"aren't\", 'do', 'about', 'hers', 'here', 's', 'your', 'same', \"she's\", \"shan't\", \"we'd\", 'off', 'each', 'be', 'this', 'on', \"they'd\", 'does', 'can', \"that'll\", 'too', 'ourselves', 'which', 'were', \"you'd\", 'nor', \"i'll\", 'has'}\n"
     ]
    },
    {
     "name": "stderr",
     "output_type": "stream",
     "text": [
      "[nltk_data] Downloading package stopwords to\n",
      "[nltk_data]     /Users/zhaijingjing/nltk_data...\n",
      "[nltk_data]   Package stopwords is already up-to-date!\n"
     ]
    }
   ],
   "source": [
    "nltk.download('stopwords')\n",
    "stopword = set(stopwords.words('english'))\n",
    "print(stopword)"
   ]
  },
  {
   "cell_type": "code",
   "execution_count": 74,
   "metadata": {
    "ExecuteTime": {
     "end_time": "2025-03-24T08:44:46.580279Z",
     "start_time": "2025-03-24T08:44:46.506614Z"
    }
   },
   "outputs": [
    {
     "name": "stderr",
     "output_type": "stream",
     "text": [
      "[nltk_data] Downloading package punkt to\n",
      "[nltk_data]     /Users/zhaijingjing/nltk_data...\n",
      "[nltk_data]   Package punkt is already up-to-date!\n",
      "[nltk_data] Downloading package wordnet to\n",
      "[nltk_data]     /Users/zhaijingjing/nltk_data...\n",
      "[nltk_data]   Package wordnet is already up-to-date!\n",
      "[nltk_data] Downloading package punkt_tab to\n",
      "[nltk_data]     /Users/zhaijingjing/nltk_data...\n",
      "[nltk_data]   Package punkt_tab is already up-to-date!\n"
     ]
    },
    {
     "data": {
      "text/plain": [
       "True"
      ]
     },
     "execution_count": 74,
     "metadata": {},
     "output_type": "execute_result"
    }
   ],
   "source": [
    "nltk.download('punkt')\n",
    "nltk.download('wordnet')\n",
    "nltk.download('punkt_tab')"
   ]
  },
  {
   "cell_type": "code",
   "execution_count": 75,
   "metadata": {
    "ExecuteTime": {
     "end_time": "2025-03-24T08:44:46.604660Z",
     "start_time": "2025-03-24T08:44:46.596020Z"
    }
   },
   "outputs": [],
   "source": [
    "urlPattern = r\"((http://)[^ ]*|(https://)[^ ]*|( www\\.)[^ ]*)\"\n",
    "userPattern = '@[^\\s]+'\n",
    "\n",
    "# negation handling fix\n",
    "def process_tweets_negation_handling_fix(tweet):\n",
    "    # Lower Casing\n",
    "    tweet = tweet.lower()\n",
    "    #tweet=tweet[1:]\n",
    "    # Removing all URls\n",
    "    tweet = re.sub(urlPattern,'',tweet)\n",
    "    # Removing all @username.\n",
    "    tweet = re.sub(userPattern,'', tweet)\n",
    "    # remove all not letter words\n",
    "    tweet = re.sub(r\"[^\\w\\s']\", '', tweet)\n",
    "    # negation handling\n",
    "    # 1. can't → cannot\n",
    "    tweet = re.sub(r\"\\bcan't\\b\", \"cannot\", tweet)\n",
    "    # 2. won't → will not\n",
    "    tweet = re.sub(r\"\\bwon't\\b\", \"will not\", tweet)\n",
    "    # 3. shan't → shall not\n",
    "    tweet = re.sub(r\"\\bshan't\\b\", \"shall not\", tweet)\n",
    "    # 4. ain't → is not\n",
    "    tweet = re.sub(r\"\\bain't\\b\", \"is not\", tweet)\n",
    "    # --- n't handling ---\n",
    "    # replace 'n't' with 'not'（eg didn't → did not）\n",
    "    tweet = re.sub(r\"n't\\b\", \" not\", tweet)\n",
    "    # --- replace ' with blank（eg I'll → I ll）---\n",
    "    tweet = re.sub(r\"'\", ' ', tweet)\n",
    "\n",
    "    #tokenizing words\n",
    "    tokens = word_tokenize(tweet)\n",
    "    # Remove punctuations but remain ‘n't’\n",
    "    final_tokens = tokens\n",
    "    #reducing a word to its word stem\n",
    "    wordLemm = WordNetLemmatizer()\n",
    "    finalwords=[]\n",
    "\n",
    "    for w in tokens:\n",
    "        if len(w) > 1:\n",
    "            word = wordLemm.lemmatize(w, pos='v')\n",
    "            word = wordLemm.lemmatize(word, pos='n')\n",
    "            finalwords.append(word)\n",
    "    return ' '.join(finalwords)"
   ]
  },
  {
   "cell_type": "code",
   "execution_count": 76,
   "metadata": {
    "ExecuteTime": {
     "end_time": "2025-03-24T08:44:49.461735Z",
     "start_time": "2025-03-24T08:44:46.620536Z"
    }
   },
   "outputs": [
    {
     "name": "stdout",
     "output_type": "stream",
     "text": [
      "Text Preprocessing complete.\n"
     ]
    }
   ],
   "source": [
    "data['processed_tweets'] = data['text'].apply(lambda x: process_tweets_negation_handling_fix(x))\n",
    "print('Text Preprocessing complete.')"
   ]
  },
  {
   "cell_type": "code",
   "execution_count": 77,
   "metadata": {
    "ExecuteTime": {
     "end_time": "2025-03-24T08:44:49.477921Z",
     "start_time": "2025-03-24T08:44:49.473377Z"
    }
   },
   "outputs": [
    {
     "data": {
      "text/html": [
       "<div>\n",
       "<style scoped>\n",
       "    .dataframe tbody tr th:only-of-type {\n",
       "        vertical-align: middle;\n",
       "    }\n",
       "\n",
       "    .dataframe tbody tr th {\n",
       "        vertical-align: top;\n",
       "    }\n",
       "\n",
       "    .dataframe thead th {\n",
       "        text-align: right;\n",
       "    }\n",
       "</style>\n",
       "<table border=\"1\" class=\"dataframe\">\n",
       "  <thead>\n",
       "    <tr style=\"text-align: right;\">\n",
       "      <th></th>\n",
       "      <th>polarity</th>\n",
       "      <th>text</th>\n",
       "      <th>processed_tweets</th>\n",
       "    </tr>\n",
       "  </thead>\n",
       "  <tbody>\n",
       "    <tr>\n",
       "      <th>1586564</th>\n",
       "      <td>1</td>\n",
       "      <td>...went to New Emperor as it was still open  V...</td>\n",
       "      <td>go to new emperor a it be still open very nice...</td>\n",
       "    </tr>\n",
       "    <tr>\n",
       "      <th>1593258</th>\n",
       "      <td>1</td>\n",
       "      <td>@lickmycupcakes Yay!!! It worked!! And thank y...</td>\n",
       "      <td>yay it work and thank you blush</td>\n",
       "    </tr>\n",
       "    <tr>\n",
       "      <th>250171</th>\n",
       "      <td>0</td>\n",
       "      <td>@Mister_82 don't b hatin on my Mira Mira music</td>\n",
       "      <td>do not hatin on my mira mira music</td>\n",
       "    </tr>\n",
       "    <tr>\n",
       "      <th>774617</th>\n",
       "      <td>0</td>\n",
       "      <td>Where were u when #BPD broke 1,000 users onlin...</td>\n",
       "      <td>where be when bpd break 1000 user online 628pm...</td>\n",
       "    </tr>\n",
       "    <tr>\n",
       "      <th>219640</th>\n",
       "      <td>0</td>\n",
       "      <td>I really just want to be out of Dothan...more ...</td>\n",
       "      <td>really just want to be out of dothanmore than ...</td>\n",
       "    </tr>\n",
       "    <tr>\n",
       "      <th>364854</th>\n",
       "      <td>0</td>\n",
       "      <td>Fml got suckered into working til 930 and I'm ...</td>\n",
       "      <td>fml get suckered into work til 930 and back in...</td>\n",
       "    </tr>\n",
       "    <tr>\n",
       "      <th>1081037</th>\n",
       "      <td>1</td>\n",
       "      <td>@aalmishal ???? ?? ?????  ????? ????? ?????? ?...</td>\n",
       "      <td></td>\n",
       "    </tr>\n",
       "    <tr>\n",
       "      <th>352747</th>\n",
       "      <td>0</td>\n",
       "      <td>Today I could go get my new phone, probably wo...</td>\n",
       "      <td>today could go get my new phone probably will ...</td>\n",
       "    </tr>\n",
       "    <tr>\n",
       "      <th>804759</th>\n",
       "      <td>1</td>\n",
       "      <td>@SexySubKaylee heh heh dirty is always good gu...</td>\n",
       "      <td>heh heh dirty be always good gurl like how you...</td>\n",
       "    </tr>\n",
       "    <tr>\n",
       "      <th>903760</th>\n",
       "      <td>1</td>\n",
       "      <td>No school today - Not because of &amp;quot;H1N1&amp;qu...</td>\n",
       "      <td>no school today not because of quoth1n1quot bu...</td>\n",
       "    </tr>\n",
       "  </tbody>\n",
       "</table>\n",
       "</div>"
      ],
      "text/plain": [
       "         polarity                                               text  \\\n",
       "1586564         1  ...went to New Emperor as it was still open  V...   \n",
       "1593258         1  @lickmycupcakes Yay!!! It worked!! And thank y...   \n",
       "250171          0    @Mister_82 don't b hatin on my Mira Mira music    \n",
       "774617          0  Where were u when #BPD broke 1,000 users onlin...   \n",
       "219640          0  I really just want to be out of Dothan...more ...   \n",
       "364854          0  Fml got suckered into working til 930 and I'm ...   \n",
       "1081037         1  @aalmishal ???? ?? ?????  ????? ????? ?????? ?...   \n",
       "352747          0  Today I could go get my new phone, probably wo...   \n",
       "804759          1  @SexySubKaylee heh heh dirty is always good gu...   \n",
       "903760          1  No school today - Not because of &quot;H1N1&qu...   \n",
       "\n",
       "                                          processed_tweets  \n",
       "1586564  go to new emperor a it be still open very nice...  \n",
       "1593258                    yay it work and thank you blush  \n",
       "250171                  do not hatin on my mira mira music  \n",
       "774617   where be when bpd break 1000 user online 628pm...  \n",
       "219640   really just want to be out of dothanmore than ...  \n",
       "364854   fml get suckered into work til 930 and back in...  \n",
       "1081037                                                     \n",
       "352747   today could go get my new phone probably will ...  \n",
       "804759   heh heh dirty be always good gurl like how you...  \n",
       "903760   no school today not because of quoth1n1quot bu...  "
      ]
     },
     "execution_count": 77,
     "metadata": {},
     "output_type": "execute_result"
    }
   ],
   "source": [
    "data.head(10)"
   ]
  },
  {
   "cell_type": "markdown",
   "metadata": {},
   "source": [
    "# RNN - LSTM"
   ]
  },
  {
   "cell_type": "code",
   "execution_count": 78,
   "metadata": {
    "ExecuteTime": {
     "end_time": "2025-03-24T08:44:49.524056Z",
     "start_time": "2025-03-24T08:44:49.519987Z"
    }
   },
   "outputs": [],
   "source": [
    "from keras.models import Sequential\n",
    "from keras.layers import Dense, Embedding, LSTM, Dropout\n",
    "from sklearn.feature_extraction.text import CountVectorizer\n",
    "from tensorflow.keras.preprocessing.text import Tokenizer\n",
    "from tensorflow.keras.preprocessing.sequence import pad_sequences\n",
    "from tensorflow.keras.utils import to_categorical\n",
    "import re\n",
    "import keras\n",
    "from keras import regularizers\n",
    "from keras.models import Sequential\n",
    "from keras import layers\n",
    "from keras import regularizers\n",
    "from keras import backend as K\n",
    "from keras.callbacks import ModelCheckpoint\n",
    "from tensorflow.keras.optimizers import Adam\n",
    "from keras.layers import Dense, Embedding, LSTM, Dropout, BatchNormalization, LeakyReLU"
   ]
  },
  {
   "cell_type": "markdown",
   "metadata": {},
   "source": [
    "## Hyperparameters"
   ]
  },
  {
   "cell_type": "code",
   "execution_count": 79,
   "metadata": {
    "ExecuteTime": {
     "end_time": "2025-03-24T08:44:49.561997Z",
     "start_time": "2025-03-24T08:44:49.558730Z"
    }
   },
   "outputs": [],
   "source": [
    "num_epochs = 10\n",
    "max_len = 200\n",
    "hidden_units = 16\n",
    "max_words = 5000\n",
    "embedding_dim = 64\n",
    "learning_rate = 0.001\n",
    "dropout = 0.0\n",
    "\n",
    "results = {}\n",
    "params_history = {}\n",
    "lstm_layers_list = [1, 2, 3]\n",
    "lstm_units_list = [8, 16, 32, 64]"
   ]
  },
  {
   "cell_type": "markdown",
   "metadata": {},
   "source": [
    "## Converting text data into sequences"
   ]
  },
  {
   "cell_type": "code",
   "execution_count": 80,
   "metadata": {
    "ExecuteTime": {
     "end_time": "2025-03-24T08:44:50.014920Z",
     "start_time": "2025-03-24T08:44:49.567837Z"
    }
   },
   "outputs": [
    {
     "name": "stdout",
     "output_type": "stream",
     "text": [
      "(20000, 200)\n"
     ]
    }
   ],
   "source": [
    "# Initialize the tokenizer, keeping only the top 'max_words' most frequent words\n",
    "tokenizer = Tokenizer(num_words=max_words)\n",
    "# Fit the tokenizer on the processed tweets to build the word index\n",
    "tokenizer.fit_on_texts(data.processed_tweets)\n",
    "# Convert each tweet (text) into a sequence of integer indices based on the word index\n",
    "sequences = tokenizer.texts_to_sequences(data.processed_tweets)\n",
    "\n",
    "# Pad or truncate all sequences to the same length ('max_len')\n",
    "# - If a sequence is shorter than 'max_len', it will be padded with zeros at the beginning.\n",
    "# - If a sequence is longer than 'max_len', it will be truncated from the beginning.\n",
    "tweets = pad_sequences(sequences, maxlen=max_len)\n",
    "print(tweets.shape)"
   ]
  },
  {
   "cell_type": "markdown",
   "metadata": {},
   "source": [
    "## Split Traning and Test data"
   ]
  },
  {
   "cell_type": "code",
   "execution_count": 81,
   "metadata": {
    "ExecuteTime": {
     "end_time": "2025-03-24T08:44:50.036567Z",
     "start_time": "2025-03-24T08:44:50.027635Z"
    }
   },
   "outputs": [
    {
     "name": "stdout",
     "output_type": "stream",
     "text": [
      "[0 1]\n",
      "[0 1]\n"
     ]
    }
   ],
   "source": [
    "train_data, test_data, train_label, test_label = train_test_split(tweets, data.polarity.values, test_size=0.2, random_state=101)\n",
    "print(np.unique(train_label))\n",
    "print(np.unique(test_label))"
   ]
  },
  {
   "cell_type": "markdown",
   "metadata": {},
   "source": [
    "## Creating and Traning LSTM Model"
   ]
  },
  {
   "cell_type": "code",
   "execution_count": 82,
   "metadata": {
    "ExecuteTime": {
     "end_time": "2025-03-24T08:44:50.051373Z",
     "start_time": "2025-03-24T08:44:50.047112Z"
    }
   },
   "outputs": [],
   "source": [
    "def create_lstm_model(lstm_layers, lstm_units):\n",
    "    model = Sequential()\n",
    "    model.add(layers.Embedding(max_words, embedding_dim))\n",
    "    for i in range(lstm_layers):\n",
    "        return_sequences = i < lstm_layers - 1  # 只有在不是最后一层时才返回序列\n",
    "        model.add(layers.LSTM(lstm_units, dropout=dropout, return_sequences=return_sequences))\n",
    "    model.add(layers.Dense(hidden_units, activation='relu'))\n",
    "    model.add(layers.Dense(hidden_units, activation='relu'))\n",
    "    model.add(layers.Dense(1, activation='sigmoid'))\n",
    "    optimizer = Adam(learning_rate=learning_rate)\n",
    "    model.compile(optimizer=optimizer, loss='binary_crossentropy', metrics=['accuracy'])\n",
    "    return model"
   ]
  },
  {
   "cell_type": "code",
   "execution_count": 83,
   "metadata": {
    "ExecuteTime": {
     "end_time": "2025-03-24T10:10:59.382750Z",
     "start_time": "2025-03-24T08:44:50.065942Z"
    }
   },
   "outputs": [
    {
     "name": "stdout",
     "output_type": "stream",
     "text": [
      "Training model with 1 LSTM layers and 8 LSTM units per layer...\n",
      "Epoch 1/10\n",
      "500/500 - 13s - 27ms/step - accuracy: 0.6974 - loss: 0.5773 - val_accuracy: 0.7498 - val_loss: 0.5152\n",
      "Epoch 2/10\n",
      "500/500 - 12s - 24ms/step - accuracy: 0.8060 - loss: 0.4363 - val_accuracy: 0.7527 - val_loss: 0.5123\n",
      "Epoch 3/10\n",
      "500/500 - 12s - 24ms/step - accuracy: 0.8426 - loss: 0.3669 - val_accuracy: 0.7458 - val_loss: 0.5651\n",
      "Epoch 4/10\n",
      "500/500 - 12s - 24ms/step - accuracy: 0.8725 - loss: 0.3100 - val_accuracy: 0.7415 - val_loss: 0.5953\n",
      "Epoch 5/10\n",
      "500/500 - 12s - 24ms/step - accuracy: 0.8946 - loss: 0.2587 - val_accuracy: 0.7303 - val_loss: 0.7016\n",
      "Epoch 6/10\n",
      "500/500 - 12s - 24ms/step - accuracy: 0.9086 - loss: 0.2190 - val_accuracy: 0.7295 - val_loss: 0.7569\n",
      "Epoch 7/10\n",
      "500/500 - 12s - 24ms/step - accuracy: 0.9221 - loss: 0.1893 - val_accuracy: 0.7250 - val_loss: 0.9111\n",
      "Epoch 8/10\n",
      "500/500 - 12s - 24ms/step - accuracy: 0.9334 - loss: 0.1596 - val_accuracy: 0.7237 - val_loss: 1.0904\n",
      "Epoch 9/10\n",
      "500/500 - 12s - 24ms/step - accuracy: 0.9442 - loss: 0.1346 - val_accuracy: 0.7125 - val_loss: 1.2396\n",
      "Epoch 10/10\n",
      "500/500 - 12s - 24ms/step - accuracy: 0.9492 - loss: 0.1256 - val_accuracy: 0.7168 - val_loss: 1.2447\n",
      "Training model with 1 LSTM layers and 16 LSTM units per layer...\n",
      "Epoch 1/10\n",
      "500/500 - 16s - 32ms/step - accuracy: 0.7054 - loss: 0.5632 - val_accuracy: 0.7527 - val_loss: 0.5075\n",
      "Epoch 2/10\n",
      "500/500 - 15s - 29ms/step - accuracy: 0.8062 - loss: 0.4305 - val_accuracy: 0.7510 - val_loss: 0.5144\n",
      "Epoch 3/10\n",
      "500/500 - 14s - 28ms/step - accuracy: 0.8447 - loss: 0.3583 - val_accuracy: 0.7465 - val_loss: 0.5472\n",
      "Epoch 4/10\n",
      "500/500 - 14s - 27ms/step - accuracy: 0.8725 - loss: 0.2916 - val_accuracy: 0.7395 - val_loss: 0.6284\n",
      "Epoch 5/10\n",
      "500/500 - 14s - 27ms/step - accuracy: 0.8983 - loss: 0.2361 - val_accuracy: 0.7340 - val_loss: 0.8101\n",
      "Epoch 6/10\n",
      "500/500 - 14s - 27ms/step - accuracy: 0.9126 - loss: 0.1986 - val_accuracy: 0.7253 - val_loss: 0.9074\n",
      "Epoch 7/10\n",
      "500/500 - 14s - 27ms/step - accuracy: 0.9287 - loss: 0.1668 - val_accuracy: 0.7247 - val_loss: 1.0753\n",
      "Epoch 8/10\n",
      "500/500 - 14s - 27ms/step - accuracy: 0.9413 - loss: 0.1385 - val_accuracy: 0.7210 - val_loss: 1.3589\n",
      "Epoch 9/10\n",
      "500/500 - 14s - 27ms/step - accuracy: 0.9500 - loss: 0.1221 - val_accuracy: 0.7132 - val_loss: 1.4310\n",
      "Epoch 10/10\n",
      "500/500 - 13s - 26ms/step - accuracy: 0.9599 - loss: 0.1011 - val_accuracy: 0.7190 - val_loss: 1.5513\n",
      "Training model with 1 LSTM layers and 32 LSTM units per layer...\n",
      "Epoch 1/10\n",
      "500/500 - 19s - 37ms/step - accuracy: 0.6846 - loss: 0.5819 - val_accuracy: 0.7525 - val_loss: 0.5090\n",
      "Epoch 2/10\n",
      "500/500 - 17s - 34ms/step - accuracy: 0.8001 - loss: 0.4394 - val_accuracy: 0.7515 - val_loss: 0.5199\n",
      "Epoch 3/10\n",
      "500/500 - 16s - 33ms/step - accuracy: 0.8376 - loss: 0.3693 - val_accuracy: 0.7458 - val_loss: 0.5486\n",
      "Epoch 4/10\n",
      "500/500 - 17s - 33ms/step - accuracy: 0.8684 - loss: 0.3049 - val_accuracy: 0.7360 - val_loss: 0.6231\n",
      "Epoch 5/10\n",
      "500/500 - 17s - 34ms/step - accuracy: 0.8886 - loss: 0.2539 - val_accuracy: 0.7327 - val_loss: 0.7200\n",
      "Epoch 6/10\n",
      "500/500 - 17s - 33ms/step - accuracy: 0.9069 - loss: 0.2117 - val_accuracy: 0.7172 - val_loss: 0.8722\n",
      "Epoch 7/10\n",
      "500/500 - 17s - 33ms/step - accuracy: 0.9265 - loss: 0.1731 - val_accuracy: 0.7150 - val_loss: 1.1297\n",
      "Epoch 8/10\n",
      "500/500 - 17s - 33ms/step - accuracy: 0.9411 - loss: 0.1425 - val_accuracy: 0.7178 - val_loss: 1.2966\n",
      "Epoch 9/10\n",
      "500/500 - 17s - 33ms/step - accuracy: 0.9496 - loss: 0.1225 - val_accuracy: 0.7212 - val_loss: 1.3198\n",
      "Epoch 10/10\n",
      "500/500 - 17s - 33ms/step - accuracy: 0.9594 - loss: 0.1018 - val_accuracy: 0.7260 - val_loss: 1.5138\n",
      "Training model with 1 LSTM layers and 64 LSTM units per layer...\n",
      "Epoch 1/10\n",
      "500/500 - 28s - 55ms/step - accuracy: 0.7067 - loss: 0.5619 - val_accuracy: 0.7555 - val_loss: 0.5087\n",
      "Epoch 2/10\n",
      "500/500 - 27s - 54ms/step - accuracy: 0.8003 - loss: 0.4414 - val_accuracy: 0.7502 - val_loss: 0.5095\n",
      "Epoch 3/10\n",
      "500/500 - 26s - 53ms/step - accuracy: 0.8300 - loss: 0.3873 - val_accuracy: 0.7420 - val_loss: 0.5371\n",
      "Epoch 4/10\n",
      "500/500 - 26s - 53ms/step - accuracy: 0.8577 - loss: 0.3296 - val_accuracy: 0.7385 - val_loss: 0.6225\n",
      "Epoch 5/10\n",
      "500/500 - 26s - 53ms/step - accuracy: 0.8826 - loss: 0.2717 - val_accuracy: 0.7283 - val_loss: 0.7075\n",
      "Epoch 6/10\n",
      "500/500 - 27s - 53ms/step - accuracy: 0.9070 - loss: 0.2231 - val_accuracy: 0.7275 - val_loss: 0.8152\n",
      "Epoch 7/10\n",
      "500/500 - 27s - 55ms/step - accuracy: 0.9193 - loss: 0.1862 - val_accuracy: 0.7210 - val_loss: 0.9738\n",
      "Epoch 8/10\n",
      "500/500 - 27s - 54ms/step - accuracy: 0.9309 - loss: 0.1612 - val_accuracy: 0.7232 - val_loss: 1.1161\n",
      "Epoch 9/10\n",
      "500/500 - 27s - 54ms/step - accuracy: 0.9416 - loss: 0.1351 - val_accuracy: 0.7092 - val_loss: 1.2298\n",
      "Epoch 10/10\n",
      "500/500 - 27s - 54ms/step - accuracy: 0.9498 - loss: 0.1182 - val_accuracy: 0.6927 - val_loss: 1.2570\n",
      "Training model with 2 LSTM layers and 8 LSTM units per layer...\n",
      "Epoch 1/10\n",
      "500/500 - 23s - 47ms/step - accuracy: 0.6841 - loss: 0.5804 - val_accuracy: 0.7425 - val_loss: 0.5276\n",
      "Epoch 2/10\n",
      "500/500 - 20s - 40ms/step - accuracy: 0.7966 - loss: 0.4490 - val_accuracy: 0.7558 - val_loss: 0.5155\n",
      "Epoch 3/10\n",
      "500/500 - 20s - 41ms/step - accuracy: 0.8303 - loss: 0.3883 - val_accuracy: 0.7530 - val_loss: 0.5374\n",
      "Epoch 4/10\n",
      "500/500 - 20s - 41ms/step - accuracy: 0.8579 - loss: 0.3314 - val_accuracy: 0.7452 - val_loss: 0.5619\n",
      "Epoch 5/10\n",
      "500/500 - 21s - 42ms/step - accuracy: 0.8850 - loss: 0.2769 - val_accuracy: 0.7287 - val_loss: 0.6733\n",
      "Epoch 6/10\n",
      "500/500 - 21s - 42ms/step - accuracy: 0.9052 - loss: 0.2309 - val_accuracy: 0.7358 - val_loss: 0.8083\n",
      "Epoch 7/10\n",
      "500/500 - 21s - 43ms/step - accuracy: 0.9208 - loss: 0.1927 - val_accuracy: 0.7310 - val_loss: 0.8493\n",
      "Epoch 8/10\n",
      "500/500 - 21s - 43ms/step - accuracy: 0.9347 - loss: 0.1605 - val_accuracy: 0.7200 - val_loss: 1.0045\n",
      "Epoch 9/10\n",
      "500/500 - 21s - 42ms/step - accuracy: 0.9441 - loss: 0.1371 - val_accuracy: 0.7215 - val_loss: 1.0620\n",
      "Epoch 10/10\n",
      "500/500 - 21s - 42ms/step - accuracy: 0.9531 - loss: 0.1181 - val_accuracy: 0.7190 - val_loss: 1.2268\n",
      "Training model with 2 LSTM layers and 16 LSTM units per layer...\n",
      "Epoch 1/10\n",
      "500/500 - 27s - 54ms/step - accuracy: 0.6896 - loss: 0.5760 - val_accuracy: 0.7477 - val_loss: 0.5132\n",
      "Epoch 2/10\n",
      "500/500 - 25s - 50ms/step - accuracy: 0.8004 - loss: 0.4391 - val_accuracy: 0.7513 - val_loss: 0.5039\n",
      "Epoch 3/10\n",
      "500/500 - 25s - 49ms/step - accuracy: 0.8322 - loss: 0.3832 - val_accuracy: 0.7505 - val_loss: 0.5373\n",
      "Epoch 4/10\n",
      "500/500 - 25s - 49ms/step - accuracy: 0.8623 - loss: 0.3229 - val_accuracy: 0.7387 - val_loss: 0.5718\n",
      "Epoch 5/10\n",
      "500/500 - 24s - 49ms/step - accuracy: 0.8899 - loss: 0.2591 - val_accuracy: 0.7330 - val_loss: 0.6642\n",
      "Epoch 6/10\n",
      "500/500 - 23s - 45ms/step - accuracy: 0.9132 - loss: 0.2085 - val_accuracy: 0.7330 - val_loss: 0.8301\n",
      "Epoch 7/10\n",
      "500/500 - 23s - 46ms/step - accuracy: 0.9299 - loss: 0.1689 - val_accuracy: 0.7222 - val_loss: 0.9506\n",
      "Epoch 8/10\n",
      "500/500 - 23s - 45ms/step - accuracy: 0.9411 - loss: 0.1427 - val_accuracy: 0.7212 - val_loss: 0.9819\n",
      "Epoch 9/10\n",
      "500/500 - 22s - 45ms/step - accuracy: 0.9488 - loss: 0.1239 - val_accuracy: 0.7207 - val_loss: 1.1892\n",
      "Epoch 10/10\n",
      "500/500 - 23s - 45ms/step - accuracy: 0.9580 - loss: 0.1052 - val_accuracy: 0.7120 - val_loss: 1.2703\n",
      "Training model with 2 LSTM layers and 32 LSTM units per layer...\n",
      "Epoch 1/10\n",
      "500/500 - 33s - 66ms/step - accuracy: 0.6974 - loss: 0.5674 - val_accuracy: 0.7542 - val_loss: 0.5123\n",
      "Epoch 2/10\n",
      "500/500 - 30s - 60ms/step - accuracy: 0.8004 - loss: 0.4434 - val_accuracy: 0.7523 - val_loss: 0.5074\n",
      "Epoch 3/10\n",
      "500/500 - 30s - 59ms/step - accuracy: 0.8347 - loss: 0.3814 - val_accuracy: 0.7410 - val_loss: 0.5532\n",
      "Epoch 4/10\n",
      "500/500 - 30s - 60ms/step - accuracy: 0.8627 - loss: 0.3189 - val_accuracy: 0.7375 - val_loss: 0.6109\n",
      "Epoch 5/10\n",
      "500/500 - 30s - 60ms/step - accuracy: 0.8881 - loss: 0.2596 - val_accuracy: 0.7362 - val_loss: 0.6926\n",
      "Epoch 6/10\n",
      "500/500 - 30s - 59ms/step - accuracy: 0.9074 - loss: 0.2147 - val_accuracy: 0.7347 - val_loss: 0.8286\n",
      "Epoch 7/10\n",
      "500/500 - 30s - 60ms/step - accuracy: 0.9210 - loss: 0.1813 - val_accuracy: 0.7240 - val_loss: 1.0504\n",
      "Epoch 8/10\n",
      "500/500 - 30s - 61ms/step - accuracy: 0.9331 - loss: 0.1559 - val_accuracy: 0.7258 - val_loss: 1.0236\n",
      "Epoch 9/10\n",
      "500/500 - 31s - 61ms/step - accuracy: 0.9433 - loss: 0.1354 - val_accuracy: 0.7225 - val_loss: 1.1795\n",
      "Epoch 10/10\n",
      "500/500 - 30s - 60ms/step - accuracy: 0.9513 - loss: 0.1170 - val_accuracy: 0.7212 - val_loss: 1.2838\n",
      "Training model with 2 LSTM layers and 64 LSTM units per layer...\n",
      "Epoch 1/10\n",
      "500/500 - 54s - 107ms/step - accuracy: 0.6937 - loss: 0.5656 - val_accuracy: 0.7533 - val_loss: 0.5048\n",
      "Epoch 2/10\n",
      "500/500 - 52s - 105ms/step - accuracy: 0.7989 - loss: 0.4408 - val_accuracy: 0.7477 - val_loss: 0.5132\n",
      "Epoch 3/10\n",
      "500/500 - 52s - 103ms/step - accuracy: 0.8304 - loss: 0.3814 - val_accuracy: 0.7492 - val_loss: 0.5761\n",
      "Epoch 4/10\n",
      "500/500 - 52s - 103ms/step - accuracy: 0.8648 - loss: 0.3150 - val_accuracy: 0.7448 - val_loss: 0.6264\n",
      "Epoch 5/10\n",
      "500/500 - 51s - 103ms/step - accuracy: 0.8920 - loss: 0.2527 - val_accuracy: 0.7318 - val_loss: 0.7255\n",
      "Epoch 6/10\n",
      "500/500 - 51s - 103ms/step - accuracy: 0.9080 - loss: 0.2115 - val_accuracy: 0.7408 - val_loss: 0.8988\n",
      "Epoch 7/10\n",
      "500/500 - 52s - 103ms/step - accuracy: 0.9229 - loss: 0.1792 - val_accuracy: 0.7218 - val_loss: 1.0149\n",
      "Epoch 8/10\n",
      "500/500 - 52s - 105ms/step - accuracy: 0.9322 - loss: 0.1527 - val_accuracy: 0.7212 - val_loss: 1.1889\n",
      "Epoch 9/10\n",
      "500/500 - 53s - 106ms/step - accuracy: 0.9417 - loss: 0.1330 - val_accuracy: 0.7128 - val_loss: 1.1736\n",
      "Epoch 10/10\n",
      "500/500 - 52s - 105ms/step - accuracy: 0.9501 - loss: 0.1153 - val_accuracy: 0.7210 - val_loss: 1.2916\n",
      "Training model with 3 LSTM layers and 8 LSTM units per layer...\n",
      "Epoch 1/10\n",
      "500/500 - 33s - 66ms/step - accuracy: 0.6696 - loss: 0.6009 - val_accuracy: 0.7352 - val_loss: 0.5439\n",
      "Epoch 2/10\n",
      "500/500 - 29s - 59ms/step - accuracy: 0.7935 - loss: 0.4536 - val_accuracy: 0.7525 - val_loss: 0.5070\n",
      "Epoch 3/10\n",
      "500/500 - 29s - 58ms/step - accuracy: 0.8347 - loss: 0.3826 - val_accuracy: 0.7458 - val_loss: 0.5288\n",
      "Epoch 4/10\n",
      "500/500 - 29s - 58ms/step - accuracy: 0.8679 - loss: 0.3214 - val_accuracy: 0.7427 - val_loss: 0.5765\n",
      "Epoch 5/10\n",
      "500/500 - 30s - 59ms/step - accuracy: 0.8993 - loss: 0.2600 - val_accuracy: 0.7270 - val_loss: 0.6653\n",
      "Epoch 6/10\n",
      "500/500 - 29s - 59ms/step - accuracy: 0.9180 - loss: 0.2162 - val_accuracy: 0.7243 - val_loss: 0.7455\n",
      "Epoch 7/10\n",
      "500/500 - 29s - 58ms/step - accuracy: 0.9326 - loss: 0.1814 - val_accuracy: 0.7225 - val_loss: 0.7992\n",
      "Epoch 8/10\n",
      "500/500 - 29s - 57ms/step - accuracy: 0.9428 - loss: 0.1554 - val_accuracy: 0.7143 - val_loss: 0.8414\n",
      "Epoch 9/10\n",
      "500/500 - 29s - 58ms/step - accuracy: 0.9544 - loss: 0.1315 - val_accuracy: 0.7128 - val_loss: 0.9471\n",
      "Epoch 10/10\n",
      "500/500 - 30s - 59ms/step - accuracy: 0.9571 - loss: 0.1208 - val_accuracy: 0.7157 - val_loss: 0.9181\n",
      "Training model with 3 LSTM layers and 16 LSTM units per layer...\n",
      "Epoch 1/10\n",
      "500/500 - 38s - 75ms/step - accuracy: 0.6804 - loss: 0.5880 - val_accuracy: 0.7485 - val_loss: 0.5202\n",
      "Epoch 2/10\n",
      "500/500 - 33s - 67ms/step - accuracy: 0.7952 - loss: 0.4489 - val_accuracy: 0.7502 - val_loss: 0.5326\n",
      "Epoch 3/10\n",
      "500/500 - 34s - 67ms/step - accuracy: 0.8343 - loss: 0.3808 - val_accuracy: 0.7485 - val_loss: 0.5395\n",
      "Epoch 4/10\n",
      "500/500 - 33s - 67ms/step - accuracy: 0.8679 - loss: 0.3204 - val_accuracy: 0.7368 - val_loss: 0.5900\n",
      "Epoch 5/10\n",
      "500/500 - 33s - 67ms/step - accuracy: 0.8946 - loss: 0.2623 - val_accuracy: 0.7303 - val_loss: 0.6515\n",
      "Epoch 6/10\n",
      "500/500 - 33s - 66ms/step - accuracy: 0.9147 - loss: 0.2145 - val_accuracy: 0.7205 - val_loss: 0.7576\n",
      "Epoch 7/10\n",
      "500/500 - 34s - 67ms/step - accuracy: 0.9269 - loss: 0.1817 - val_accuracy: 0.7175 - val_loss: 0.9285\n",
      "Epoch 8/10\n",
      "500/500 - 34s - 67ms/step - accuracy: 0.9378 - loss: 0.1528 - val_accuracy: 0.7147 - val_loss: 0.9329\n",
      "Epoch 9/10\n",
      "500/500 - 34s - 68ms/step - accuracy: 0.9448 - loss: 0.1321 - val_accuracy: 0.7175 - val_loss: 1.0806\n",
      "Epoch 10/10\n",
      "500/500 - 33s - 67ms/step - accuracy: 0.9538 - loss: 0.1165 - val_accuracy: 0.7188 - val_loss: 1.2155\n",
      "Training model with 3 LSTM layers and 32 LSTM units per layer...\n",
      "Epoch 1/10\n",
      "500/500 - 49s - 97ms/step - accuracy: 0.6859 - loss: 0.5797 - val_accuracy: 0.7435 - val_loss: 0.5139\n",
      "Epoch 2/10\n",
      "500/500 - 45s - 90ms/step - accuracy: 0.7964 - loss: 0.4459 - val_accuracy: 0.7502 - val_loss: 0.5152\n",
      "Epoch 3/10\n",
      "500/500 - 45s - 89ms/step - accuracy: 0.8351 - loss: 0.3794 - val_accuracy: 0.7523 - val_loss: 0.5359\n",
      "Epoch 4/10\n",
      "500/500 - 45s - 90ms/step - accuracy: 0.8690 - loss: 0.3097 - val_accuracy: 0.7333 - val_loss: 0.6208\n",
      "Epoch 5/10\n",
      "500/500 - 79s - 157ms/step - accuracy: 0.8936 - loss: 0.2506 - val_accuracy: 0.7283 - val_loss: 0.7181\n",
      "Epoch 6/10\n",
      "500/500 - 959s - 2s/step - accuracy: 0.9133 - loss: 0.2035 - val_accuracy: 0.7170 - val_loss: 0.8586\n",
      "Epoch 7/10\n",
      "500/500 - 45s - 90ms/step - accuracy: 0.9298 - loss: 0.1674 - val_accuracy: 0.7193 - val_loss: 1.1667\n",
      "Epoch 8/10\n",
      "500/500 - 45s - 91ms/step - accuracy: 0.9415 - loss: 0.1452 - val_accuracy: 0.7132 - val_loss: 1.0533\n",
      "Epoch 9/10\n",
      "500/500 - 48s - 97ms/step - accuracy: 0.9505 - loss: 0.1210 - val_accuracy: 0.7082 - val_loss: 1.1751\n",
      "Epoch 10/10\n",
      "500/500 - 54s - 109ms/step - accuracy: 0.9554 - loss: 0.1098 - val_accuracy: 0.7125 - val_loss: 1.2262\n",
      "Training model with 3 LSTM layers and 64 LSTM units per layer...\n",
      "Epoch 1/10\n",
      "500/500 - 101s - 202ms/step - accuracy: 0.6745 - loss: 0.5891 - val_accuracy: 0.7520 - val_loss: 0.5166\n",
      "Epoch 2/10\n",
      "500/500 - 95s - 191ms/step - accuracy: 0.7946 - loss: 0.4518 - val_accuracy: 0.7492 - val_loss: 0.5180\n",
      "Epoch 3/10\n",
      "500/500 - 103s - 206ms/step - accuracy: 0.8312 - loss: 0.3906 - val_accuracy: 0.7462 - val_loss: 0.5254\n",
      "Epoch 4/10\n",
      "500/500 - 120s - 240ms/step - accuracy: 0.8620 - loss: 0.3328 - val_accuracy: 0.7423 - val_loss: 0.6134\n",
      "Epoch 5/10\n",
      "500/500 - 131s - 261ms/step - accuracy: 0.8840 - loss: 0.2757 - val_accuracy: 0.7253 - val_loss: 0.6069\n",
      "Epoch 6/10\n",
      "500/500 - 126s - 253ms/step - accuracy: 0.9066 - loss: 0.2280 - val_accuracy: 0.7185 - val_loss: 0.7905\n",
      "Epoch 7/10\n",
      "500/500 - 127s - 254ms/step - accuracy: 0.9239 - loss: 0.1844 - val_accuracy: 0.7185 - val_loss: 0.8294\n",
      "Epoch 8/10\n",
      "500/500 - 114s - 227ms/step - accuracy: 0.9367 - loss: 0.1567 - val_accuracy: 0.7212 - val_loss: 0.9482\n",
      "Epoch 9/10\n",
      "500/500 - 114s - 228ms/step - accuracy: 0.9472 - loss: 0.1348 - val_accuracy: 0.7240 - val_loss: 0.9943\n",
      "Epoch 10/10\n",
      "500/500 - 116s - 232ms/step - accuracy: 0.9538 - loss: 0.1164 - val_accuracy: 0.7200 - val_loss: 1.0942\n"
     ]
    }
   ],
   "source": [
    "models = {}\n",
    "for lstm_layers in lstm_layers_list:\n",
    "    for lstm_units in lstm_units_list:\n",
    "        print(f\"Training model with {lstm_layers} LSTM layers and {lstm_units} LSTM units per layer...\")\n",
    "\n",
    "        model = create_lstm_model(lstm_layers, lstm_units)\n",
    "\n",
    "        history = model.fit(\n",
    "            train_data, train_label,\n",
    "            epochs=num_epochs,\n",
    "            validation_data=(test_data, test_label),\n",
    "            verbose=2\n",
    "        )\n",
    "\n",
    "        results[(lstm_layers, lstm_units)] = {\n",
    "            'train_acc': np.mean(history.history['accuracy'][-1:]),\n",
    "            'test_acc': np.mean(history.history['val_accuracy'][-1:])\n",
    "        }\n",
    "\n",
    "        params_history[(lstm_layers, lstm_units)] = model.count_params()"
   ]
  },
  {
   "cell_type": "code",
   "execution_count": 84,
   "metadata": {
    "ExecuteTime": {
     "end_time": "2025-03-24T10:11:00.094756Z",
     "start_time": "2025-03-24T10:10:59.639255Z"
    }
   },
   "outputs": [
    {
     "data": {
      "image/png": "[encoded data removed]",
      "text/plain": [
       "<Figure size 1200x500 with 1 Axes>"
      ]
     },
     "metadata": {},
     "output_type": "display_data"
    },
    {
     "data": {
      "image/png": "[encoded data removed]",
      "text/plain": [
       "<Figure size 1200x500 with 1 Axes>"
      ]
     },
     "metadata": {},
     "output_type": "display_data"
    },
    {
     "data": {
      "image/png": "[encoded data removed]",
      "text/plain": [
       "<Figure size 800x600 with 1 Axes>"
      ]
     },
     "metadata": {},
     "output_type": "display_data"
    }
   ],
   "source": [
    "colors = ['red', 'green', 'blue']\n",
    "plt.figure(figsize=(12, 5))\n",
    "\n",
    "for i, lstm_layers in enumerate(lstm_layers_list):\n",
    "    train_acc = [results[(lstm_layers, lstm_units)]['train_acc'] for lstm_units in lstm_units_list]\n",
    "    plt.plot(lstm_units_list, train_acc, marker='o', linestyle='-', color=colors[i], label=f\"{lstm_layers} LSTM layers\")\n",
    "plt.xlabel(\"Number of LSTM units per layer\")\n",
    "plt.ylabel(\"Accuracy\")\n",
    "plt.title(\"Train Accuracy\")\n",
    "plt.legend()\n",
    "plt.show()\n",
    "\n",
    "plt.figure(figsize=(12, 5))\n",
    "for i, lstm_layers in enumerate(lstm_layers_list):\n",
    "    test_acc = [results[(lstm_layers, lstm_units)]['test_acc'] for lstm_units in lstm_units_list]\n",
    "    plt.plot(lstm_units_list, test_acc, marker='o', linestyle='-', color=colors[i], label=f\"{lstm_layers} LSTM layers\")\n",
    "plt.xlabel(\"Number of LSTM units per layer\")\n",
    "plt.ylabel(\"Accuracy\")\n",
    "plt.title(\"Test Accuracy\")\n",
    "plt.legend()\n",
    "plt.show()\n",
    "\n",
    "plt.figure(figsize=(8, 6))\n",
    "for i, lstm_layers in enumerate(lstm_layers_list):\n",
    "    params = [params_history[(lstm_layers, lstm_units)] for lstm_units in lstm_units_list]\n",
    "    plt.plot(lstm_units_list, params, marker='o', linestyle='-', color=colors[i], label=f\"{lstm_layers} LSTM layers\")\n",
    "plt.xlabel(\"Number of LSTM units per layer\")\n",
    "plt.ylabel(\"Trainable Parameters\")\n",
    "plt.title(\"Model Parameters\")\n",
    "plt.legend()\n",
    "plt.show()"
   ]
  },
  {
   "cell_type": "code",
   "execution_count": null,
   "metadata": {
    "ExecuteTime": {
     "end_time": "2025-03-24T10:11:00.105247Z",
     "start_time": "2025-03-24T10:11:00.102893Z"
    }
   },
   "outputs": [],
   "source": []
  },
  {
   "cell_type": "markdown",
   "metadata": {},
   "source": []
  }
 ],
 "metadata": {
  "colab": {
   "authorship_tag": "ABX9TyNNag92UMCy1GtgfJ+zFFU1",
   "collapsed_sections": [],
   "name": "DUDL_FFN_aboutMNIST.ipynb",
   "provenance": [
    {
     "file_id": "15cpyHkJ435B4MqbyGjAH1poN4nCy_DE4",
     "timestamp": 1617737766196
    },
    {
     "file_id": "1OLuWuaFu0hcFgkQ2hh5BqbRuqUZD7XcQ",
     "timestamp": 1617734878578
    },
    {
     "file_id": "1XvzVGJPTJifVh8OpZVB7ykLxyUqYwQ1j",
     "timestamp": 1617196833019
    },
    {
     "file_id": "1bv1_y32e3KEExFKKlPfC3rpw1JxmBr8H",
     "timestamp": 1617124341706
    },
    {
     "file_id": "1GMq8u7KyHB2AE7Teyls9gK1T01OduQSn",
     "timestamp": 1616697516760
    },
    {
     "file_id": "1Ui3kyHim-e0XLgDs2mkBxVlYg7TKYtcg",
     "timestamp": 1616615469755
    },
    {
     "file_id": "1YpHocGI4rApOxIBb1ZghCU5L-hFnv4CK",
     "timestamp": 1616608248670
    }
   ]
  },
  "kernelspec": {
   "display_name": "Python (newpipenv)",
   "language": "python",
   "name": "newpipenv"
  },
  "language_info": {
   "codemirror_mode": {
    "name": "ipython",
    "version": 3
   },
   "file_extension": ".py",
   "mimetype": "text/x-python",
   "name": "python",
   "nbconvert_exporter": "python",
   "pygments_lexer": "ipython3",
   "version": "3.10.9"
  }
 },
 "nbformat": 4,
 "nbformat_minor": 1
}
