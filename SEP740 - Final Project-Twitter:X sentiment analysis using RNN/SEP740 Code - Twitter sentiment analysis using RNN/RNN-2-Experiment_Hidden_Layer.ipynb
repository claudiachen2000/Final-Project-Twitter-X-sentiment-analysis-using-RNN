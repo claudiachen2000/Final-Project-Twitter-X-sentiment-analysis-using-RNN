{
 "cells": [
  {
   "cell_type": "code",
   "metadata": {
    "id": "YeuAheYyhdZw",
    "ExecuteTime": {
     "end_time": "2025-03-24T03:10:24.617356Z",
     "start_time": "2025-03-24T03:10:20.577920Z"
    }
   },
   "source": [
    "# import libraries\n",
    "# DataFrame\n",
    "import pandas as pd\n",
    "\n",
    "# plotting\n",
    "import seaborn as sns\n",
    "from wordcloud import WordCloud\n",
    "import matplotlib.pyplot as plt\n",
    "\n",
    "# nltk\n",
    "import nltk\n",
    "from nltk.stem import WordNetLemmatizer\n",
    "from nltk.corpus import stopwords\n",
    "from nltk.tokenize import word_tokenize\n",
    "\n",
    "# sklearny\n",
    "from sklearn.model_selection import train_test_split\n",
    "from sklearn.feature_extraction.text import TfidfVectorizer\n",
    "from sklearn.metrics import confusion_matrix, classification_report\n",
    "\n",
    "from sklearn.linear_model import LogisticRegression\n",
    "from sklearn.svm import LinearSVC\n",
    "from sklearn.ensemble import RandomForestClassifier\n",
    "from sklearn.naive_bayes import BernoulliNB\n",
    "\n",
    "\n",
    "#tensorflow\n",
    "import tensorflow.compat.v2 as tf\n",
    "import tensorflow_datasets as tfds\n",
    "\n",
    "# Utility\n",
    "import pandas as pd\n",
    "import numpy as np\n",
    "import warnings\n",
    "warnings.filterwarnings('ignore')\n",
    "import re\n",
    "import string\n",
    "import pickle"
   ],
   "outputs": [],
   "execution_count": 1
  },
  {
   "cell_type": "markdown",
   "metadata": {},
   "source": "# Loading Dataset"
  },
  {
   "cell_type": "code",
   "metadata": {
    "ExecuteTime": {
     "end_time": "2025-03-24T03:10:27.522394Z",
     "start_time": "2025-03-24T03:10:24.623608Z"
    }
   },
   "source": [
    "# Construct a tf.data.Dataset\n",
    "data = pd.read_csv('training.1600000.processed.noemoticon.csv',encoding='latin', names = ['polarity','id','date','query','user','text'])\n",
    "# Random shuffling of data, select the first 200,000\n",
    "data = data.sample(frac=1,random_state=740)\n",
    "data = data[:20000]\n",
    "data.head(10)"
   ],
   "outputs": [
    {
     "data": {
      "text/plain": [
       "         polarity          id                          date     query  \\\n",
       "1586564         4  2190822209  Tue Jun 16 03:49:24 PDT 2009  NO_QUERY   \n",
       "1593258         4  2191903014  Tue Jun 16 06:10:21 PDT 2009  NO_QUERY   \n",
       "250171          0  1983150308  Sun May 31 12:36:04 PDT 2009  NO_QUERY   \n",
       "774617          0  2321582236  Wed Jun 24 21:15:45 PDT 2009  NO_QUERY   \n",
       "219640          0  1976442803  Sat May 30 17:20:29 PDT 2009  NO_QUERY   \n",
       "364854          0  2048346997  Fri Jun 05 15:03:16 PDT 2009  NO_QUERY   \n",
       "1081037         4  1968400415  Fri May 29 21:21:32 PDT 2009  NO_QUERY   \n",
       "352747          0  2031275962  Thu Jun 04 09:35:12 PDT 2009  NO_QUERY   \n",
       "804759          4  1468569254  Tue Apr 07 02:28:17 PDT 2009  NO_QUERY   \n",
       "903760          4  1694686706  Mon May 04 03:43:12 PDT 2009  NO_QUERY   \n",
       "\n",
       "                    user                                               text  \n",
       "1586564      Alex_Clough  ...went to New Emperor as it was still open  V...  \n",
       "1593258    LeahChantelle  @lickmycupcakes Yay!!! It worked!! And thank y...  \n",
       "250171         YesDiva32    @Mister_82 don't b hatin on my Mira Mira music   \n",
       "774617     _WorldsApart_  Where were u when #BPD broke 1,000 users onlin...  \n",
       "219640      greatbrytton  I really just want to be out of Dothan...more ...  \n",
       "364854   MsCherrylicious  Fml got suckered into working til 930 and I'm ...  \n",
       "1081037        pennamico  @aalmishal ???? ?? ?????  ????? ????? ?????? ?...  \n",
       "352747     darlingroland  Today I could go get my new phone, probably wo...  \n",
       "804759          Scyranth  @SexySubKaylee heh heh dirty is always good gu...  \n",
       "903760     LmaonadeStand  No school today - Not because of &quot;H1N1&qu...  "
      ],
      "text/html": [
       "<div>\n",
       "<style scoped>\n",
       "    .dataframe tbody tr th:only-of-type {\n",
       "        vertical-align: middle;\n",
       "    }\n",
       "\n",
       "    .dataframe tbody tr th {\n",
       "        vertical-align: top;\n",
       "    }\n",
       "\n",
       "    .dataframe thead th {\n",
       "        text-align: right;\n",
       "    }\n",
       "</style>\n",
       "<table border=\"1\" class=\"dataframe\">\n",
       "  <thead>\n",
       "    <tr style=\"text-align: right;\">\n",
       "      <th></th>\n",
       "      <th>polarity</th>\n",
       "      <th>id</th>\n",
       "      <th>date</th>\n",
       "      <th>query</th>\n",
       "      <th>user</th>\n",
       "      <th>text</th>\n",
       "    </tr>\n",
       "  </thead>\n",
       "  <tbody>\n",
       "    <tr>\n",
       "      <th>1586564</th>\n",
       "      <td>4</td>\n",
       "      <td>2190822209</td>\n",
       "      <td>Tue Jun 16 03:49:24 PDT 2009</td>\n",
       "      <td>NO_QUERY</td>\n",
       "      <td>Alex_Clough</td>\n",
       "      <td>...went to New Emperor as it was still open  V...</td>\n",
       "    </tr>\n",
       "    <tr>\n",
       "      <th>1593258</th>\n",
       "      <td>4</td>\n",
       "      <td>2191903014</td>\n",
       "      <td>Tue Jun 16 06:10:21 PDT 2009</td>\n",
       "      <td>NO_QUERY</td>\n",
       "      <td>LeahChantelle</td>\n",
       "      <td>@lickmycupcakes Yay!!! It worked!! And thank y...</td>\n",
       "    </tr>\n",
       "    <tr>\n",
       "      <th>250171</th>\n",
       "      <td>0</td>\n",
       "      <td>1983150308</td>\n",
       "      <td>Sun May 31 12:36:04 PDT 2009</td>\n",
       "      <td>NO_QUERY</td>\n",
       "      <td>YesDiva32</td>\n",
       "      <td>@Mister_82 don't b hatin on my Mira Mira music</td>\n",
       "    </tr>\n",
       "    <tr>\n",
       "      <th>774617</th>\n",
       "      <td>0</td>\n",
       "      <td>2321582236</td>\n",
       "      <td>Wed Jun 24 21:15:45 PDT 2009</td>\n",
       "      <td>NO_QUERY</td>\n",
       "      <td>_WorldsApart_</td>\n",
       "      <td>Where were u when #BPD broke 1,000 users onlin...</td>\n",
       "    </tr>\n",
       "    <tr>\n",
       "      <th>219640</th>\n",
       "      <td>0</td>\n",
       "      <td>1976442803</td>\n",
       "      <td>Sat May 30 17:20:29 PDT 2009</td>\n",
       "      <td>NO_QUERY</td>\n",
       "      <td>greatbrytton</td>\n",
       "      <td>I really just want to be out of Dothan...more ...</td>\n",
       "    </tr>\n",
       "    <tr>\n",
       "      <th>364854</th>\n",
       "      <td>0</td>\n",
       "      <td>2048346997</td>\n",
       "      <td>Fri Jun 05 15:03:16 PDT 2009</td>\n",
       "      <td>NO_QUERY</td>\n",
       "      <td>MsCherrylicious</td>\n",
       "      <td>Fml got suckered into working til 930 and I'm ...</td>\n",
       "    </tr>\n",
       "    <tr>\n",
       "      <th>1081037</th>\n",
       "      <td>4</td>\n",
       "      <td>1968400415</td>\n",
       "      <td>Fri May 29 21:21:32 PDT 2009</td>\n",
       "      <td>NO_QUERY</td>\n",
       "      <td>pennamico</td>\n",
       "      <td>@aalmishal ???? ?? ?????  ????? ????? ?????? ?...</td>\n",
       "    </tr>\n",
       "    <tr>\n",
       "      <th>352747</th>\n",
       "      <td>0</td>\n",
       "      <td>2031275962</td>\n",
       "      <td>Thu Jun 04 09:35:12 PDT 2009</td>\n",
       "      <td>NO_QUERY</td>\n",
       "      <td>darlingroland</td>\n",
       "      <td>Today I could go get my new phone, probably wo...</td>\n",
       "    </tr>\n",
       "    <tr>\n",
       "      <th>804759</th>\n",
       "      <td>4</td>\n",
       "      <td>1468569254</td>\n",
       "      <td>Tue Apr 07 02:28:17 PDT 2009</td>\n",
       "      <td>NO_QUERY</td>\n",
       "      <td>Scyranth</td>\n",
       "      <td>@SexySubKaylee heh heh dirty is always good gu...</td>\n",
       "    </tr>\n",
       "    <tr>\n",
       "      <th>903760</th>\n",
       "      <td>4</td>\n",
       "      <td>1694686706</td>\n",
       "      <td>Mon May 04 03:43:12 PDT 2009</td>\n",
       "      <td>NO_QUERY</td>\n",
       "      <td>LmaonadeStand</td>\n",
       "      <td>No school today - Not because of &amp;quot;H1N1&amp;qu...</td>\n",
       "    </tr>\n",
       "  </tbody>\n",
       "</table>\n",
       "</div>"
      ]
     },
     "execution_count": 2,
     "metadata": {},
     "output_type": "execute_result"
    }
   ],
   "execution_count": 2
  },
  {
   "metadata": {},
   "cell_type": "markdown",
   "source": "# Data Visualization"
  },
  {
   "cell_type": "code",
   "metadata": {
    "scrolled": false,
    "ExecuteTime": {
     "end_time": "2025-03-24T03:10:27.650683Z",
     "start_time": "2025-03-24T03:10:27.647925Z"
    }
   },
   "source": "print(\"Dataset shape:\", data.shape)",
   "outputs": [
    {
     "name": "stdout",
     "output_type": "stream",
     "text": [
      "Dataset shape: (20000, 6)\n"
     ]
    }
   ],
   "execution_count": 3
  },
  {
   "cell_type": "code",
   "metadata": {
    "ExecuteTime": {
     "end_time": "2025-03-24T03:10:27.696237Z",
     "start_time": "2025-03-24T03:10:27.690603Z"
    }
   },
   "source": "data.head(10)",
   "outputs": [
    {
     "data": {
      "text/plain": [
       "         polarity          id                          date     query  \\\n",
       "1586564         4  2190822209  Tue Jun 16 03:49:24 PDT 2009  NO_QUERY   \n",
       "1593258         4  2191903014  Tue Jun 16 06:10:21 PDT 2009  NO_QUERY   \n",
       "250171          0  1983150308  Sun May 31 12:36:04 PDT 2009  NO_QUERY   \n",
       "774617          0  2321582236  Wed Jun 24 21:15:45 PDT 2009  NO_QUERY   \n",
       "219640          0  1976442803  Sat May 30 17:20:29 PDT 2009  NO_QUERY   \n",
       "364854          0  2048346997  Fri Jun 05 15:03:16 PDT 2009  NO_QUERY   \n",
       "1081037         4  1968400415  Fri May 29 21:21:32 PDT 2009  NO_QUERY   \n",
       "352747          0  2031275962  Thu Jun 04 09:35:12 PDT 2009  NO_QUERY   \n",
       "804759          4  1468569254  Tue Apr 07 02:28:17 PDT 2009  NO_QUERY   \n",
       "903760          4  1694686706  Mon May 04 03:43:12 PDT 2009  NO_QUERY   \n",
       "\n",
       "                    user                                               text  \n",
       "1586564      Alex_Clough  ...went to New Emperor as it was still open  V...  \n",
       "1593258    LeahChantelle  @lickmycupcakes Yay!!! It worked!! And thank y...  \n",
       "250171         YesDiva32    @Mister_82 don't b hatin on my Mira Mira music   \n",
       "774617     _WorldsApart_  Where were u when #BPD broke 1,000 users onlin...  \n",
       "219640      greatbrytton  I really just want to be out of Dothan...more ...  \n",
       "364854   MsCherrylicious  Fml got suckered into working til 930 and I'm ...  \n",
       "1081037        pennamico  @aalmishal ???? ?? ?????  ????? ????? ?????? ?...  \n",
       "352747     darlingroland  Today I could go get my new phone, probably wo...  \n",
       "804759          Scyranth  @SexySubKaylee heh heh dirty is always good gu...  \n",
       "903760     LmaonadeStand  No school today - Not because of &quot;H1N1&qu...  "
      ],
      "text/html": [
       "<div>\n",
       "<style scoped>\n",
       "    .dataframe tbody tr th:only-of-type {\n",
       "        vertical-align: middle;\n",
       "    }\n",
       "\n",
       "    .dataframe tbody tr th {\n",
       "        vertical-align: top;\n",
       "    }\n",
       "\n",
       "    .dataframe thead th {\n",
       "        text-align: right;\n",
       "    }\n",
       "</style>\n",
       "<table border=\"1\" class=\"dataframe\">\n",
       "  <thead>\n",
       "    <tr style=\"text-align: right;\">\n",
       "      <th></th>\n",
       "      <th>polarity</th>\n",
       "      <th>id</th>\n",
       "      <th>date</th>\n",
       "      <th>query</th>\n",
       "      <th>user</th>\n",
       "      <th>text</th>\n",
       "    </tr>\n",
       "  </thead>\n",
       "  <tbody>\n",
       "    <tr>\n",
       "      <th>1586564</th>\n",
       "      <td>4</td>\n",
       "      <td>2190822209</td>\n",
       "      <td>Tue Jun 16 03:49:24 PDT 2009</td>\n",
       "      <td>NO_QUERY</td>\n",
       "      <td>Alex_Clough</td>\n",
       "      <td>...went to New Emperor as it was still open  V...</td>\n",
       "    </tr>\n",
       "    <tr>\n",
       "      <th>1593258</th>\n",
       "      <td>4</td>\n",
       "      <td>2191903014</td>\n",
       "      <td>Tue Jun 16 06:10:21 PDT 2009</td>\n",
       "      <td>NO_QUERY</td>\n",
       "      <td>LeahChantelle</td>\n",
       "      <td>@lickmycupcakes Yay!!! It worked!! And thank y...</td>\n",
       "    </tr>\n",
       "    <tr>\n",
       "      <th>250171</th>\n",
       "      <td>0</td>\n",
       "      <td>1983150308</td>\n",
       "      <td>Sun May 31 12:36:04 PDT 2009</td>\n",
       "      <td>NO_QUERY</td>\n",
       "      <td>YesDiva32</td>\n",
       "      <td>@Mister_82 don't b hatin on my Mira Mira music</td>\n",
       "    </tr>\n",
       "    <tr>\n",
       "      <th>774617</th>\n",
       "      <td>0</td>\n",
       "      <td>2321582236</td>\n",
       "      <td>Wed Jun 24 21:15:45 PDT 2009</td>\n",
       "      <td>NO_QUERY</td>\n",
       "      <td>_WorldsApart_</td>\n",
       "      <td>Where were u when #BPD broke 1,000 users onlin...</td>\n",
       "    </tr>\n",
       "    <tr>\n",
       "      <th>219640</th>\n",
       "      <td>0</td>\n",
       "      <td>1976442803</td>\n",
       "      <td>Sat May 30 17:20:29 PDT 2009</td>\n",
       "      <td>NO_QUERY</td>\n",
       "      <td>greatbrytton</td>\n",
       "      <td>I really just want to be out of Dothan...more ...</td>\n",
       "    </tr>\n",
       "    <tr>\n",
       "      <th>364854</th>\n",
       "      <td>0</td>\n",
       "      <td>2048346997</td>\n",
       "      <td>Fri Jun 05 15:03:16 PDT 2009</td>\n",
       "      <td>NO_QUERY</td>\n",
       "      <td>MsCherrylicious</td>\n",
       "      <td>Fml got suckered into working til 930 and I'm ...</td>\n",
       "    </tr>\n",
       "    <tr>\n",
       "      <th>1081037</th>\n",
       "      <td>4</td>\n",
       "      <td>1968400415</td>\n",
       "      <td>Fri May 29 21:21:32 PDT 2009</td>\n",
       "      <td>NO_QUERY</td>\n",
       "      <td>pennamico</td>\n",
       "      <td>@aalmishal ???? ?? ?????  ????? ????? ?????? ?...</td>\n",
       "    </tr>\n",
       "    <tr>\n",
       "      <th>352747</th>\n",
       "      <td>0</td>\n",
       "      <td>2031275962</td>\n",
       "      <td>Thu Jun 04 09:35:12 PDT 2009</td>\n",
       "      <td>NO_QUERY</td>\n",
       "      <td>darlingroland</td>\n",
       "      <td>Today I could go get my new phone, probably wo...</td>\n",
       "    </tr>\n",
       "    <tr>\n",
       "      <th>804759</th>\n",
       "      <td>4</td>\n",
       "      <td>1468569254</td>\n",
       "      <td>Tue Apr 07 02:28:17 PDT 2009</td>\n",
       "      <td>NO_QUERY</td>\n",
       "      <td>Scyranth</td>\n",
       "      <td>@SexySubKaylee heh heh dirty is always good gu...</td>\n",
       "    </tr>\n",
       "    <tr>\n",
       "      <th>903760</th>\n",
       "      <td>4</td>\n",
       "      <td>1694686706</td>\n",
       "      <td>Mon May 04 03:43:12 PDT 2009</td>\n",
       "      <td>NO_QUERY</td>\n",
       "      <td>LmaonadeStand</td>\n",
       "      <td>No school today - Not because of &amp;quot;H1N1&amp;qu...</td>\n",
       "    </tr>\n",
       "  </tbody>\n",
       "</table>\n",
       "</div>"
      ]
     },
     "execution_count": 4,
     "metadata": {},
     "output_type": "execute_result"
    }
   ],
   "execution_count": 4
  },
  {
   "cell_type": "code",
   "metadata": {
    "ExecuteTime": {
     "end_time": "2025-03-24T03:10:27.735875Z",
     "start_time": "2025-03-24T03:10:27.731833Z"
    }
   },
   "source": "data['polarity'].unique()",
   "outputs": [
    {
     "data": {
      "text/plain": [
       "array([4, 0])"
      ]
     },
     "execution_count": 5,
     "metadata": {},
     "output_type": "execute_result"
    }
   ],
   "execution_count": 5
  },
  {
   "cell_type": "code",
   "metadata": {
    "scrolled": true,
    "ExecuteTime": {
     "end_time": "2025-03-24T03:10:27.776355Z",
     "start_time": "2025-03-24T03:10:27.770181Z"
    }
   },
   "source": [
    "# Replacing the value 4 -->1 for ease of understanding.\n",
    "data['polarity'] = data['polarity'].replace(4,1)\n",
    "data.head()"
   ],
   "outputs": [
    {
     "data": {
      "text/plain": [
       "         polarity          id                          date     query  \\\n",
       "1586564         1  2190822209  Tue Jun 16 03:49:24 PDT 2009  NO_QUERY   \n",
       "1593258         1  2191903014  Tue Jun 16 06:10:21 PDT 2009  NO_QUERY   \n",
       "250171          0  1983150308  Sun May 31 12:36:04 PDT 2009  NO_QUERY   \n",
       "774617          0  2321582236  Wed Jun 24 21:15:45 PDT 2009  NO_QUERY   \n",
       "219640          0  1976442803  Sat May 30 17:20:29 PDT 2009  NO_QUERY   \n",
       "\n",
       "                  user                                               text  \n",
       "1586564    Alex_Clough  ...went to New Emperor as it was still open  V...  \n",
       "1593258  LeahChantelle  @lickmycupcakes Yay!!! It worked!! And thank y...  \n",
       "250171       YesDiva32    @Mister_82 don't b hatin on my Mira Mira music   \n",
       "774617   _WorldsApart_  Where were u when #BPD broke 1,000 users onlin...  \n",
       "219640    greatbrytton  I really just want to be out of Dothan...more ...  "
      ],
      "text/html": [
       "<div>\n",
       "<style scoped>\n",
       "    .dataframe tbody tr th:only-of-type {\n",
       "        vertical-align: middle;\n",
       "    }\n",
       "\n",
       "    .dataframe tbody tr th {\n",
       "        vertical-align: top;\n",
       "    }\n",
       "\n",
       "    .dataframe thead th {\n",
       "        text-align: right;\n",
       "    }\n",
       "</style>\n",
       "<table border=\"1\" class=\"dataframe\">\n",
       "  <thead>\n",
       "    <tr style=\"text-align: right;\">\n",
       "      <th></th>\n",
       "      <th>polarity</th>\n",
       "      <th>id</th>\n",
       "      <th>date</th>\n",
       "      <th>query</th>\n",
       "      <th>user</th>\n",
       "      <th>text</th>\n",
       "    </tr>\n",
       "  </thead>\n",
       "  <tbody>\n",
       "    <tr>\n",
       "      <th>1586564</th>\n",
       "      <td>1</td>\n",
       "      <td>2190822209</td>\n",
       "      <td>Tue Jun 16 03:49:24 PDT 2009</td>\n",
       "      <td>NO_QUERY</td>\n",
       "      <td>Alex_Clough</td>\n",
       "      <td>...went to New Emperor as it was still open  V...</td>\n",
       "    </tr>\n",
       "    <tr>\n",
       "      <th>1593258</th>\n",
       "      <td>1</td>\n",
       "      <td>2191903014</td>\n",
       "      <td>Tue Jun 16 06:10:21 PDT 2009</td>\n",
       "      <td>NO_QUERY</td>\n",
       "      <td>LeahChantelle</td>\n",
       "      <td>@lickmycupcakes Yay!!! It worked!! And thank y...</td>\n",
       "    </tr>\n",
       "    <tr>\n",
       "      <th>250171</th>\n",
       "      <td>0</td>\n",
       "      <td>1983150308</td>\n",
       "      <td>Sun May 31 12:36:04 PDT 2009</td>\n",
       "      <td>NO_QUERY</td>\n",
       "      <td>YesDiva32</td>\n",
       "      <td>@Mister_82 don't b hatin on my Mira Mira music</td>\n",
       "    </tr>\n",
       "    <tr>\n",
       "      <th>774617</th>\n",
       "      <td>0</td>\n",
       "      <td>2321582236</td>\n",
       "      <td>Wed Jun 24 21:15:45 PDT 2009</td>\n",
       "      <td>NO_QUERY</td>\n",
       "      <td>_WorldsApart_</td>\n",
       "      <td>Where were u when #BPD broke 1,000 users onlin...</td>\n",
       "    </tr>\n",
       "    <tr>\n",
       "      <th>219640</th>\n",
       "      <td>0</td>\n",
       "      <td>1976442803</td>\n",
       "      <td>Sat May 30 17:20:29 PDT 2009</td>\n",
       "      <td>NO_QUERY</td>\n",
       "      <td>greatbrytton</td>\n",
       "      <td>I really just want to be out of Dothan...more ...</td>\n",
       "    </tr>\n",
       "  </tbody>\n",
       "</table>\n",
       "</div>"
      ]
     },
     "execution_count": 6,
     "metadata": {},
     "output_type": "execute_result"
    }
   ],
   "execution_count": 6
  },
  {
   "cell_type": "code",
   "metadata": {
    "ExecuteTime": {
     "end_time": "2025-03-24T03:10:27.822363Z",
     "start_time": "2025-03-24T03:10:27.813203Z"
    }
   },
   "source": "data.describe()",
   "outputs": [
    {
     "data": {
      "text/plain": [
       "           polarity            id\n",
       "count  20000.000000  2.000000e+04\n",
       "mean       0.494000  1.999987e+09\n",
       "std        0.499976  1.951726e+08\n",
       "min        0.000000  1.467824e+09\n",
       "25%        0.000000  1.956915e+09\n",
       "50%        0.000000  2.002387e+09\n",
       "75%        1.000000  2.178142e+09\n",
       "max        1.000000  2.329143e+09"
      ],
      "text/html": [
       "<div>\n",
       "<style scoped>\n",
       "    .dataframe tbody tr th:only-of-type {\n",
       "        vertical-align: middle;\n",
       "    }\n",
       "\n",
       "    .dataframe tbody tr th {\n",
       "        vertical-align: top;\n",
       "    }\n",
       "\n",
       "    .dataframe thead th {\n",
       "        text-align: right;\n",
       "    }\n",
       "</style>\n",
       "<table border=\"1\" class=\"dataframe\">\n",
       "  <thead>\n",
       "    <tr style=\"text-align: right;\">\n",
       "      <th></th>\n",
       "      <th>polarity</th>\n",
       "      <th>id</th>\n",
       "    </tr>\n",
       "  </thead>\n",
       "  <tbody>\n",
       "    <tr>\n",
       "      <th>count</th>\n",
       "      <td>20000.000000</td>\n",
       "      <td>2.000000e+04</td>\n",
       "    </tr>\n",
       "    <tr>\n",
       "      <th>mean</th>\n",
       "      <td>0.494000</td>\n",
       "      <td>1.999987e+09</td>\n",
       "    </tr>\n",
       "    <tr>\n",
       "      <th>std</th>\n",
       "      <td>0.499976</td>\n",
       "      <td>1.951726e+08</td>\n",
       "    </tr>\n",
       "    <tr>\n",
       "      <th>min</th>\n",
       "      <td>0.000000</td>\n",
       "      <td>1.467824e+09</td>\n",
       "    </tr>\n",
       "    <tr>\n",
       "      <th>25%</th>\n",
       "      <td>0.000000</td>\n",
       "      <td>1.956915e+09</td>\n",
       "    </tr>\n",
       "    <tr>\n",
       "      <th>50%</th>\n",
       "      <td>0.000000</td>\n",
       "      <td>2.002387e+09</td>\n",
       "    </tr>\n",
       "    <tr>\n",
       "      <th>75%</th>\n",
       "      <td>1.000000</td>\n",
       "      <td>2.178142e+09</td>\n",
       "    </tr>\n",
       "    <tr>\n",
       "      <th>max</th>\n",
       "      <td>1.000000</td>\n",
       "      <td>2.329143e+09</td>\n",
       "    </tr>\n",
       "  </tbody>\n",
       "</table>\n",
       "</div>"
      ]
     },
     "execution_count": 7,
     "metadata": {},
     "output_type": "execute_result"
    }
   ],
   "execution_count": 7
  },
  {
   "metadata": {
    "ExecuteTime": {
     "end_time": "2025-03-24T03:10:27.856962Z",
     "start_time": "2025-03-24T03:10:27.852541Z"
    }
   },
   "cell_type": "code",
   "source": [
    "# check the number of positive vs. negative tagged sentences\n",
    "positives = data['polarity'][data.polarity == 1 ]\n",
    "negatives = data['polarity'][data.polarity == 0 ]\n",
    "\n",
    "print('Total length of the data is:         {}'.format(data.shape[0]))\n",
    "print('No. of positve tagged sentences is:  {}'.format(len(positives)))\n",
    "print('No. of negative tagged sentences is: {}'.format(len(negatives)))"
   ],
   "outputs": [
    {
     "name": "stdout",
     "output_type": "stream",
     "text": [
      "Total length of the data is:         20000\n",
      "No. of positve tagged sentences is:  9880\n",
      "No. of negative tagged sentences is: 10120\n"
     ]
    }
   ],
   "execution_count": 8
  },
  {
   "metadata": {
    "ExecuteTime": {
     "end_time": "2025-03-24T03:10:27.905514Z",
     "start_time": "2025-03-24T03:10:27.902837Z"
    }
   },
   "cell_type": "code",
   "source": [
    "# get a word count per of text\n",
    "def word_count(words):\n",
    "    return len(words.split())"
   ],
   "outputs": [],
   "execution_count": 9
  },
  {
   "metadata": {
    "ExecuteTime": {
     "end_time": "2025-03-24T03:10:28.110917Z",
     "start_time": "2025-03-24T03:10:27.940335Z"
    }
   },
   "cell_type": "code",
   "source": [
    "# plot word count distribution for both positive and negative\n",
    "\n",
    "data['word count'] = data['text'].apply(word_count)\n",
    "p = data['word count'][data.polarity == 1]\n",
    "n = data['word count'][data.polarity == 0]\n",
    "plt.figure(figsize=(12,6))\n",
    "plt.xlim(0,45)\n",
    "plt.xlabel('Word count')\n",
    "plt.ylabel('Frequency')\n",
    "g = plt.hist([p, n], color=['g','r'], alpha=0.5, label=['positive','negative'])\n",
    "plt.legend(loc='upper right')"
   ],
   "outputs": [
    {
     "data": {
      "text/plain": [
       "<matplotlib.legend.Legend at 0x320020fa0>"
      ]
     },
     "execution_count": 10,
     "metadata": {},
     "output_type": "execute_result"
    },
    {
     "data": {
      "text/plain": [
       "<Figure size 1200x600 with 1 Axes>"
      ],
      "image/png": "[encoded data removed]"
     },
     "metadata": {},
     "output_type": "display_data"
    }
   ],
   "execution_count": 10
  },
  {
   "metadata": {
    "ExecuteTime": {
     "end_time": "2025-03-24T03:10:28.202313Z",
     "start_time": "2025-03-24T03:10:28.116928Z"
    }
   },
   "cell_type": "code",
   "source": [
    "# get common words in training dataset\n",
    "from collections import Counter\n",
    "all_words = []\n",
    "for line in list(data['text']):\n",
    "    words = line.split()\n",
    "    for word in words:\n",
    "      if(len(word)>2):\n",
    "        all_words.append(word.lower())\n",
    "\n",
    "\n",
    "Counter(all_words).most_common(20)"
   ],
   "outputs": [
    {
     "data": {
      "text/plain": [
       "[('the', 6429),\n",
       " ('and', 3668),\n",
       " ('you', 2974),\n",
       " ('for', 2757),\n",
       " ('have', 1804),\n",
       " ('that', 1621),\n",
       " (\"i'm\", 1582),\n",
       " ('just', 1565),\n",
       " ('but', 1538),\n",
       " ('with', 1481),\n",
       " ('not', 1295),\n",
       " ('was', 1253),\n",
       " ('this', 1098),\n",
       " ('get', 993),\n",
       " ('good', 977),\n",
       " ('are', 949),\n",
       " ('like', 897),\n",
       " ('out', 895),\n",
       " ('all', 879),\n",
       " ('going', 822)]"
      ]
     },
     "execution_count": 11,
     "metadata": {},
     "output_type": "execute_result"
    }
   ],
   "execution_count": 11
  },
  {
   "metadata": {
    "ExecuteTime": {
     "end_time": "2025-03-24T03:10:28.300802Z",
     "start_time": "2025-03-24T03:10:28.211647Z"
    }
   },
   "cell_type": "code",
   "source": [
    "%matplotlib inline\n",
    "sns.countplot(x=data['polarity'])"
   ],
   "outputs": [
    {
     "data": {
      "text/plain": [
       "<Axes: xlabel='polarity', ylabel='count'>"
      ]
     },
     "execution_count": 12,
     "metadata": {},
     "output_type": "execute_result"
    },
    {
     "data": {
      "text/plain": [
       "<Figure size 640x480 with 1 Axes>"
      ],
      "image/png": "[encoded data removed]"
     },
     "metadata": {},
     "output_type": "display_data"
    }
   ],
   "execution_count": 12
  },
  {
   "metadata": {},
   "cell_type": "markdown",
   "source": "# Data Processing"
  },
  {
   "metadata": {
    "ExecuteTime": {
     "end_time": "2025-03-24T03:10:28.314161Z",
     "start_time": "2025-03-24T03:10:28.309616Z"
    }
   },
   "cell_type": "code",
   "source": [
    "# Removing the unnecessary columns.\n",
    "data.drop(['date','query','user','word count'], axis=1, inplace=True)"
   ],
   "outputs": [],
   "execution_count": 13
  },
  {
   "metadata": {
    "ExecuteTime": {
     "end_time": "2025-03-24T03:10:28.335116Z",
     "start_time": "2025-03-24T03:10:28.328315Z"
    }
   },
   "cell_type": "code",
   "source": [
    "data.drop('id', axis=1, inplace=True)\n",
    "data.head(10)"
   ],
   "outputs": [
    {
     "data": {
      "text/plain": [
       "         polarity                                               text\n",
       "1586564         1  ...went to New Emperor as it was still open  V...\n",
       "1593258         1  @lickmycupcakes Yay!!! It worked!! And thank y...\n",
       "250171          0    @Mister_82 don't b hatin on my Mira Mira music \n",
       "774617          0  Where were u when #BPD broke 1,000 users onlin...\n",
       "219640          0  I really just want to be out of Dothan...more ...\n",
       "364854          0  Fml got suckered into working til 930 and I'm ...\n",
       "1081037         1  @aalmishal ???? ?? ?????  ????? ????? ?????? ?...\n",
       "352747          0  Today I could go get my new phone, probably wo...\n",
       "804759          1  @SexySubKaylee heh heh dirty is always good gu...\n",
       "903760          1  No school today - Not because of &quot;H1N1&qu..."
      ],
      "text/html": [
       "<div>\n",
       "<style scoped>\n",
       "    .dataframe tbody tr th:only-of-type {\n",
       "        vertical-align: middle;\n",
       "    }\n",
       "\n",
       "    .dataframe tbody tr th {\n",
       "        vertical-align: top;\n",
       "    }\n",
       "\n",
       "    .dataframe thead th {\n",
       "        text-align: right;\n",
       "    }\n",
       "</style>\n",
       "<table border=\"1\" class=\"dataframe\">\n",
       "  <thead>\n",
       "    <tr style=\"text-align: right;\">\n",
       "      <th></th>\n",
       "      <th>polarity</th>\n",
       "      <th>text</th>\n",
       "    </tr>\n",
       "  </thead>\n",
       "  <tbody>\n",
       "    <tr>\n",
       "      <th>1586564</th>\n",
       "      <td>1</td>\n",
       "      <td>...went to New Emperor as it was still open  V...</td>\n",
       "    </tr>\n",
       "    <tr>\n",
       "      <th>1593258</th>\n",
       "      <td>1</td>\n",
       "      <td>@lickmycupcakes Yay!!! It worked!! And thank y...</td>\n",
       "    </tr>\n",
       "    <tr>\n",
       "      <th>250171</th>\n",
       "      <td>0</td>\n",
       "      <td>@Mister_82 don't b hatin on my Mira Mira music</td>\n",
       "    </tr>\n",
       "    <tr>\n",
       "      <th>774617</th>\n",
       "      <td>0</td>\n",
       "      <td>Where were u when #BPD broke 1,000 users onlin...</td>\n",
       "    </tr>\n",
       "    <tr>\n",
       "      <th>219640</th>\n",
       "      <td>0</td>\n",
       "      <td>I really just want to be out of Dothan...more ...</td>\n",
       "    </tr>\n",
       "    <tr>\n",
       "      <th>364854</th>\n",
       "      <td>0</td>\n",
       "      <td>Fml got suckered into working til 930 and I'm ...</td>\n",
       "    </tr>\n",
       "    <tr>\n",
       "      <th>1081037</th>\n",
       "      <td>1</td>\n",
       "      <td>@aalmishal ???? ?? ?????  ????? ????? ?????? ?...</td>\n",
       "    </tr>\n",
       "    <tr>\n",
       "      <th>352747</th>\n",
       "      <td>0</td>\n",
       "      <td>Today I could go get my new phone, probably wo...</td>\n",
       "    </tr>\n",
       "    <tr>\n",
       "      <th>804759</th>\n",
       "      <td>1</td>\n",
       "      <td>@SexySubKaylee heh heh dirty is always good gu...</td>\n",
       "    </tr>\n",
       "    <tr>\n",
       "      <th>903760</th>\n",
       "      <td>1</td>\n",
       "      <td>No school today - Not because of &amp;quot;H1N1&amp;qu...</td>\n",
       "    </tr>\n",
       "  </tbody>\n",
       "</table>\n",
       "</div>"
      ]
     },
     "execution_count": 14,
     "metadata": {},
     "output_type": "execute_result"
    }
   ],
   "execution_count": 14
  },
  {
   "metadata": {
    "ExecuteTime": {
     "end_time": "2025-03-24T03:10:28.372515Z",
     "start_time": "2025-03-24T03:10:28.365373Z"
    }
   },
   "cell_type": "code",
   "source": [
    "#Checking if any null values present\n",
    "(data.isnull().sum() / len(data))*100"
   ],
   "outputs": [
    {
     "data": {
      "text/plain": [
       "polarity    0.0\n",
       "text        0.0\n",
       "dtype: float64"
      ]
     },
     "execution_count": 15,
     "metadata": {},
     "output_type": "execute_result"
    }
   ],
   "execution_count": 15
  },
  {
   "metadata": {
    "ExecuteTime": {
     "end_time": "2025-03-24T03:10:28.408353Z",
     "start_time": "2025-03-24T03:10:28.405578Z"
    }
   },
   "cell_type": "code",
   "source": [
    "#convrting pandas object to a string type\n",
    "data['text'] = data['text'].astype('str')"
   ],
   "outputs": [],
   "execution_count": 16
  },
  {
   "metadata": {
    "ExecuteTime": {
     "end_time": "2025-03-24T03:10:28.610339Z",
     "start_time": "2025-03-24T03:10:28.455202Z"
    }
   },
   "cell_type": "code",
   "source": [
    "nltk.download('stopwords')\n",
    "stopword = set(stopwords.words('english'))\n",
    "print(stopword)"
   ],
   "outputs": [
    {
     "name": "stdout",
     "output_type": "stream",
     "text": [
      "{'again', 'be', \"didn't\", 'once', 'our', 'were', \"you'd\", 'up', 'hadn', 'mightn', \"you've\", \"he'd\", \"they'd\", \"couldn't\", 'who', 'will', 'm', 'more', 'an', 'won', 'here', 'is', 'did', 'few', 'himself', 'yourself', 'such', 'same', \"we're\", 'nor', \"we'd\", \"i'd\", 'further', \"you'll\", 'each', 'needn', \"it'll\", 'until', 'me', 'any', 'by', 'hers', \"he's\", 'am', 'mustn', 'from', 'doing', 'that', \"you're\", \"aren't\", \"they're\", 'or', \"we'll\", 'some', 'above', 'she', 'very', \"he'll\", 'didn', \"shouldn't\", 'while', 'll', \"that'll\", 'ma', 'his', 'hasn', \"doesn't\", 'after', 'i', 'own', 'which', \"shan't\", 'both', 'them', 'too', 'if', 'can', 'then', 'their', 'was', 'at', 'don', 'itself', 'just', \"haven't\", 'other', 'aren', 'than', \"wouldn't\", \"i'm\", 'it', 'into', 'as', \"hasn't\", 'had', 'in', 'over', \"won't\", \"she's\", 'to', 'whom', 'couldn', 'why', 'they', 'he', 's', \"i'll\", 'him', 'myself', 'haven', 'not', 'yourselves', 'what', 'through', 'been', \"needn't\", \"don't\", 'its', 'no', 'those', 'most', 'my', 'd', \"wasn't\", 'should', 'against', 'shan', \"i've\", 'herself', 'have', 'only', 'under', 'during', 'a', \"isn't\", 'off', 'your', 'ain', 'with', 'there', 'wouldn', 'themselves', \"she'd\", 'are', 'do', 'her', 'isn', \"hadn't\", 'so', 'of', 'this', 'theirs', \"they'll\", 'we', 'weren', \"we've\", 'yours', 'on', 'has', \"they've\", 'all', 'when', 'below', 'between', \"it's\", 'being', \"it'd\", 'out', \"weren't\", 're', \"she'll\", 'y', 'ours', 'now', 'down', 'where', 'because', \"mightn't\", 've', 'you', 'these', 'the', 'for', 'about', 'before', 'ourselves', \"should've\", 't', 'how', 'shouldn', 'having', 'does', 'doesn', 'but', 'o', \"mustn't\", 'wasn', 'and'}\n"
     ]
    },
    {
     "name": "stderr",
     "output_type": "stream",
     "text": [
      "[nltk_data] Downloading package stopwords to\n",
      "[nltk_data]     /Users/zhaijingjing/nltk_data...\n",
      "[nltk_data]   Package stopwords is already up-to-date!\n"
     ]
    }
   ],
   "execution_count": 17
  },
  {
   "metadata": {
    "ExecuteTime": {
     "end_time": "2025-03-24T03:10:28.707789Z",
     "start_time": "2025-03-24T03:10:28.640032Z"
    }
   },
   "cell_type": "code",
   "source": [
    "nltk.download('punkt')\n",
    "nltk.download('wordnet')\n",
    "nltk.download('punkt_tab')"
   ],
   "outputs": [
    {
     "name": "stderr",
     "output_type": "stream",
     "text": [
      "[nltk_data] Downloading package punkt to\n",
      "[nltk_data]     /Users/zhaijingjing/nltk_data...\n",
      "[nltk_data]   Package punkt is already up-to-date!\n",
      "[nltk_data] Downloading package wordnet to\n",
      "[nltk_data]     /Users/zhaijingjing/nltk_data...\n",
      "[nltk_data]   Package wordnet is already up-to-date!\n",
      "[nltk_data] Downloading package punkt_tab to\n",
      "[nltk_data]     /Users/zhaijingjing/nltk_data...\n",
      "[nltk_data]   Package punkt_tab is already up-to-date!\n"
     ]
    },
    {
     "data": {
      "text/plain": [
       "True"
      ]
     },
     "execution_count": 18,
     "metadata": {},
     "output_type": "execute_result"
    }
   ],
   "execution_count": 18
  },
  {
   "metadata": {
    "ExecuteTime": {
     "end_time": "2025-03-24T03:10:28.717795Z",
     "start_time": "2025-03-24T03:10:28.712531Z"
    }
   },
   "cell_type": "code",
   "source": [
    "urlPattern = r\"((http://)[^ ]*|(https://)[^ ]*|( www\\.)[^ ]*)\"\n",
    "userPattern = '@[^\\s]+'\n",
    "\n",
    "# negation handling fix\n",
    "def process_tweets_negation_handling_fix(tweet):\n",
    "    # Lower Casing\n",
    "    tweet = tweet.lower()\n",
    "    #tweet=tweet[1:]\n",
    "    # Removing all URls\n",
    "    tweet = re.sub(urlPattern,'',tweet)\n",
    "    # Removing all @username.\n",
    "    tweet = re.sub(userPattern,'', tweet)\n",
    "    # remove all not letter words\n",
    "    tweet = re.sub(r\"[^\\w\\s']\", '', tweet)\n",
    "    # negation handling\n",
    "    # 1. can't → cannot\n",
    "    tweet = re.sub(r\"\\bcan't\\b\", \"cannot\", tweet)\n",
    "    # 2. won't → will not\n",
    "    tweet = re.sub(r\"\\bwon't\\b\", \"will not\", tweet)\n",
    "    # 3. shan't → shall not\n",
    "    tweet = re.sub(r\"\\bshan't\\b\", \"shall not\", tweet)\n",
    "    # 4. ain't → is not\n",
    "    tweet = re.sub(r\"\\bain't\\b\", \"is not\", tweet)\n",
    "    # --- n't handling ---\n",
    "    # replace 'n't' with 'not'（eg didn't → did not）\n",
    "    tweet = re.sub(r\"n't\\b\", \" not\", tweet)\n",
    "    # --- replace ' with blank（eg I'll → I ll）---\n",
    "    tweet = re.sub(r\"'\", ' ', tweet)\n",
    "\n",
    "    #tokenizing words\n",
    "    tokens = word_tokenize(tweet)\n",
    "    # Remove punctuations but remain ‘n't’\n",
    "    final_tokens = tokens\n",
    "    #reducing a word to its word stem\n",
    "    wordLemm = WordNetLemmatizer()\n",
    "    finalwords=[]\n",
    "\n",
    "    for w in tokens:\n",
    "        if len(w) > 1:\n",
    "            word = wordLemm.lemmatize(w, pos='v')\n",
    "            word = wordLemm.lemmatize(word, pos='n')\n",
    "            finalwords.append(word)\n",
    "    return ' '.join(finalwords)"
   ],
   "outputs": [],
   "execution_count": 19
  },
  {
   "metadata": {
    "ExecuteTime": {
     "end_time": "2025-03-24T03:10:33.337930Z",
     "start_time": "2025-03-24T03:10:28.728227Z"
    }
   },
   "cell_type": "code",
   "source": [
    "data['processed_tweets'] = data['text'].apply(lambda x: process_tweets_negation_handling_fix(x))\n",
    "print('Text Preprocessing complete.')"
   ],
   "outputs": [
    {
     "name": "stdout",
     "output_type": "stream",
     "text": [
      "Text Preprocessing complete.\n"
     ]
    }
   ],
   "execution_count": 20
  },
  {
   "metadata": {
    "ExecuteTime": {
     "end_time": "2025-03-24T03:10:33.353004Z",
     "start_time": "2025-03-24T03:10:33.347025Z"
    }
   },
   "cell_type": "code",
   "source": "data.head(10)",
   "outputs": [
    {
     "data": {
      "text/plain": [
       "         polarity                                               text  \\\n",
       "1586564         1  ...went to New Emperor as it was still open  V...   \n",
       "1593258         1  @lickmycupcakes Yay!!! It worked!! And thank y...   \n",
       "250171          0    @Mister_82 don't b hatin on my Mira Mira music    \n",
       "774617          0  Where were u when #BPD broke 1,000 users onlin...   \n",
       "219640          0  I really just want to be out of Dothan...more ...   \n",
       "364854          0  Fml got suckered into working til 930 and I'm ...   \n",
       "1081037         1  @aalmishal ???? ?? ?????  ????? ????? ?????? ?...   \n",
       "352747          0  Today I could go get my new phone, probably wo...   \n",
       "804759          1  @SexySubKaylee heh heh dirty is always good gu...   \n",
       "903760          1  No school today - Not because of &quot;H1N1&qu...   \n",
       "\n",
       "                                          processed_tweets  \n",
       "1586564  go new emperor still open nice actually walk p...  \n",
       "1593258                               yay work thank blush  \n",
       "250171                           not hatin mira mira music  \n",
       "774617   bpd break 1000 user online 628pm est help cowo...  \n",
       "219640                     really want dothanmore anything  \n",
       "364854             fml get suckered work til 930 back 1030  \n",
       "1081037                                                     \n",
       "352747   today could go get new phone probably not get ...  \n",
       "804759           heh heh dirty always good gurl like think  \n",
       "903760   no school today not quoth1n1quot natural gas l...  "
      ],
      "text/html": [
       "<div>\n",
       "<style scoped>\n",
       "    .dataframe tbody tr th:only-of-type {\n",
       "        vertical-align: middle;\n",
       "    }\n",
       "\n",
       "    .dataframe tbody tr th {\n",
       "        vertical-align: top;\n",
       "    }\n",
       "\n",
       "    .dataframe thead th {\n",
       "        text-align: right;\n",
       "    }\n",
       "</style>\n",
       "<table border=\"1\" class=\"dataframe\">\n",
       "  <thead>\n",
       "    <tr style=\"text-align: right;\">\n",
       "      <th></th>\n",
       "      <th>polarity</th>\n",
       "      <th>text</th>\n",
       "      <th>processed_tweets</th>\n",
       "    </tr>\n",
       "  </thead>\n",
       "  <tbody>\n",
       "    <tr>\n",
       "      <th>1586564</th>\n",
       "      <td>1</td>\n",
       "      <td>...went to New Emperor as it was still open  V...</td>\n",
       "      <td>go new emperor still open nice actually walk p...</td>\n",
       "    </tr>\n",
       "    <tr>\n",
       "      <th>1593258</th>\n",
       "      <td>1</td>\n",
       "      <td>@lickmycupcakes Yay!!! It worked!! And thank y...</td>\n",
       "      <td>yay work thank blush</td>\n",
       "    </tr>\n",
       "    <tr>\n",
       "      <th>250171</th>\n",
       "      <td>0</td>\n",
       "      <td>@Mister_82 don't b hatin on my Mira Mira music</td>\n",
       "      <td>not hatin mira mira music</td>\n",
       "    </tr>\n",
       "    <tr>\n",
       "      <th>774617</th>\n",
       "      <td>0</td>\n",
       "      <td>Where were u when #BPD broke 1,000 users onlin...</td>\n",
       "      <td>bpd break 1000 user online 628pm est help cowo...</td>\n",
       "    </tr>\n",
       "    <tr>\n",
       "      <th>219640</th>\n",
       "      <td>0</td>\n",
       "      <td>I really just want to be out of Dothan...more ...</td>\n",
       "      <td>really want dothanmore anything</td>\n",
       "    </tr>\n",
       "    <tr>\n",
       "      <th>364854</th>\n",
       "      <td>0</td>\n",
       "      <td>Fml got suckered into working til 930 and I'm ...</td>\n",
       "      <td>fml get suckered work til 930 back 1030</td>\n",
       "    </tr>\n",
       "    <tr>\n",
       "      <th>1081037</th>\n",
       "      <td>1</td>\n",
       "      <td>@aalmishal ???? ?? ?????  ????? ????? ?????? ?...</td>\n",
       "      <td></td>\n",
       "    </tr>\n",
       "    <tr>\n",
       "      <th>352747</th>\n",
       "      <td>0</td>\n",
       "      <td>Today I could go get my new phone, probably wo...</td>\n",
       "      <td>today could go get new phone probably not get ...</td>\n",
       "    </tr>\n",
       "    <tr>\n",
       "      <th>804759</th>\n",
       "      <td>1</td>\n",
       "      <td>@SexySubKaylee heh heh dirty is always good gu...</td>\n",
       "      <td>heh heh dirty always good gurl like think</td>\n",
       "    </tr>\n",
       "    <tr>\n",
       "      <th>903760</th>\n",
       "      <td>1</td>\n",
       "      <td>No school today - Not because of &amp;quot;H1N1&amp;qu...</td>\n",
       "      <td>no school today not quoth1n1quot natural gas l...</td>\n",
       "    </tr>\n",
       "  </tbody>\n",
       "</table>\n",
       "</div>"
      ]
     },
     "execution_count": 21,
     "metadata": {},
     "output_type": "execute_result"
    }
   ],
   "execution_count": 21
  },
  {
   "metadata": {},
   "cell_type": "markdown",
   "source": "# RNN - LSTM"
  },
  {
   "metadata": {
    "ExecuteTime": {
     "end_time": "2025-03-24T03:10:33.398399Z",
     "start_time": "2025-03-24T03:10:33.388002Z"
    }
   },
   "cell_type": "code",
   "source": [
    "from keras.models import Sequential\n",
    "from keras.layers import Dense, Embedding, LSTM, Dropout\n",
    "from sklearn.feature_extraction.text import CountVectorizer\n",
    "from tensorflow.keras.preprocessing.text import Tokenizer\n",
    "from tensorflow.keras.preprocessing.sequence import pad_sequences\n",
    "from tensorflow.keras.utils import to_categorical\n",
    "import re\n",
    "import keras\n",
    "from keras import regularizers\n",
    "from keras.models import Sequential\n",
    "from keras import layers\n",
    "from keras import regularizers\n",
    "from keras import backend as K\n",
    "from keras.callbacks import ModelCheckpoint\n",
    "from tensorflow.keras.optimizers import Adam\n",
    "from keras.layers import Dense, Embedding, LSTM, Dropout, BatchNormalization, LeakyReLU"
   ],
   "outputs": [],
   "execution_count": 22
  },
  {
   "metadata": {},
   "cell_type": "markdown",
   "source": "## Hyperparameters"
  },
  {
   "metadata": {
    "ExecuteTime": {
     "end_time": "2025-03-24T03:10:33.431930Z",
     "start_time": "2025-03-24T03:10:33.428908Z"
    }
   },
   "cell_type": "code",
   "source": [
    "num_epochs = 10\n",
    "max_len = 200\n",
    "LSTM_units = 32\n",
    "max_words = 5000\n",
    "embedding_dim = 64\n",
    "learning_rate = 0.001\n",
    "dropout = 0.0\n",
    "\n",
    "results = {}\n",
    "params_history = {}\n",
    "hidden_layers_list = [1, 2, 3, 4]\n",
    "hidden_units_list = [4, 8, 16, 32]"
   ],
   "outputs": [],
   "execution_count": 23
  },
  {
   "metadata": {},
   "cell_type": "markdown",
   "source": "## Converting text data into sequences"
  },
  {
   "metadata": {
    "ExecuteTime": {
     "end_time": "2025-03-24T03:10:33.939039Z",
     "start_time": "2025-03-24T03:10:33.438425Z"
    }
   },
   "cell_type": "code",
   "source": [
    "# Initialize the tokenizer, keeping only the top 'max_words' most frequent words\n",
    "tokenizer = Tokenizer(num_words=max_words)\n",
    "# Fit the tokenizer on the processed tweets to build the word index\n",
    "tokenizer.fit_on_texts(data.processed_tweets)\n",
    "# Convert each tweet (text) into a sequence of integer indices based on the word index\n",
    "sequences = tokenizer.texts_to_sequences(data.processed_tweets)\n",
    "\n",
    "# Pad or truncate all sequences to the same length ('max_len')\n",
    "# - If a sequence is shorter than 'max_len', it will be padded with zeros at the beginning.\n",
    "# - If a sequence is longer than 'max_len', it will be truncated from the beginning.\n",
    "tweets = pad_sequences(sequences, maxlen=max_len)\n",
    "print(tweets)"
   ],
   "outputs": [
    {
     "name": "stdout",
     "output_type": "stream",
     "text": [
      "[[   0    0    0 ...   36    3 3679]\n",
      " [   0    0    0 ...    6   15 2632]\n",
      " [   0    0    0 ... 4708 4708  210]\n",
      " ...\n",
      " [   0    0    0 ...    0    0   15]\n",
      " [   0    0    0 ...  755  405  123]\n",
      " [   0    0    0 ...    0   78  192]]\n"
     ]
    }
   ],
   "execution_count": 24
  },
  {
   "metadata": {},
   "cell_type": "markdown",
   "source": "## Split Traning and Test data"
  },
  {
   "metadata": {
    "ExecuteTime": {
     "end_time": "2025-03-24T03:10:33.958393Z",
     "start_time": "2025-03-24T03:10:33.949594Z"
    }
   },
   "cell_type": "code",
   "source": [
    "train_data, test_data, train_label, test_label = train_test_split(tweets, data.polarity.values, test_size=0.2, random_state=101)\n",
    "print(np.unique(train_label))\n",
    "print(np.unique(test_label))"
   ],
   "outputs": [
    {
     "name": "stdout",
     "output_type": "stream",
     "text": [
      "[0 1]\n",
      "[0 1]\n"
     ]
    }
   ],
   "execution_count": 25
  },
  {
   "metadata": {},
   "cell_type": "markdown",
   "source": "## Creating and Traning LSTM Model"
  },
  {
   "metadata": {
    "ExecuteTime": {
     "end_time": "2025-03-24T03:10:33.972807Z",
     "start_time": "2025-03-24T03:10:33.969029Z"
    }
   },
   "cell_type": "code",
   "source": [
    "def create_lstm_model(hidden_layers, hidden_units):\n",
    "    model = Sequential()\n",
    "    model.add(layers.Embedding(max_words, embedding_dim))\n",
    "    model.add(layers.LSTM(LSTM_units, dropout=dropout))\n",
    "    for _ in range(hidden_layers):\n",
    "        model.add(layers.Dense(hidden_units, activation='relu'))\n",
    "    model.add(layers.Dense(1, activation='sigmoid'))\n",
    "    optimizer = Adam(learning_rate=learning_rate)\n",
    "    model.compile(optimizer=optimizer, loss='binary_crossentropy', metrics=['accuracy'])\n",
    "    return model"
   ],
   "outputs": [],
   "execution_count": 26
  },
  {
   "metadata": {
    "ExecuteTime": {
     "end_time": "2025-03-24T04:29:20.023852Z",
     "start_time": "2025-03-24T03:10:33.988771Z"
    }
   },
   "cell_type": "code",
   "source": [
    "for hidden_layers in hidden_layers_list:\n",
    "    for hidden_units in hidden_units_list:\n",
    "        print(f\"Training model with {hidden_layers} hidden layers and {hidden_units} hidden units per layer...\")\n",
    "\n",
    "        model = create_lstm_model(hidden_layers, hidden_units)\n",
    "\n",
    "        history = model.fit(\n",
    "            train_data, train_label,\n",
    "            epochs=num_epochs,\n",
    "            validation_data=(test_data, test_label),\n",
    "            verbose=2\n",
    "        )\n",
    "\n",
    "        results[(hidden_layers, hidden_units)] = {\n",
    "            'train_acc': np.mean(history.history['accuracy'][-1:]),\n",
    "            'test_acc': np.mean(history.history['val_accuracy'][-1:])\n",
    "        }\n",
    "\n",
    "        params_history[(hidden_layers, hidden_units)] = model.count_params()"
   ],
   "outputs": [
    {
     "name": "stdout",
     "output_type": "stream",
     "text": [
      "Training model with 1 hidden layers and 4 hidden units per layer...\n",
      "Epoch 1/10\n",
      "500/500 - 18s - 37ms/step - accuracy: 0.7069 - loss: 0.5657 - val_accuracy: 0.7377 - val_loss: 0.5210\n",
      "Epoch 2/10\n",
      "500/500 - 17s - 34ms/step - accuracy: 0.7944 - loss: 0.4498 - val_accuracy: 0.7393 - val_loss: 0.5251\n",
      "Epoch 3/10\n",
      "500/500 - 17s - 34ms/step - accuracy: 0.8237 - loss: 0.3976 - val_accuracy: 0.7325 - val_loss: 0.5544\n",
      "Epoch 4/10\n",
      "500/500 - 17s - 34ms/step - accuracy: 0.8487 - loss: 0.3431 - val_accuracy: 0.7255 - val_loss: 0.6236\n",
      "Epoch 5/10\n",
      "500/500 - 17s - 34ms/step - accuracy: 0.8748 - loss: 0.2830 - val_accuracy: 0.7235 - val_loss: 0.7004\n",
      "Epoch 6/10\n",
      "500/500 - 17s - 34ms/step - accuracy: 0.8981 - loss: 0.2341 - val_accuracy: 0.7163 - val_loss: 0.8711\n",
      "Epoch 7/10\n",
      "500/500 - 17s - 34ms/step - accuracy: 0.9092 - loss: 0.2005 - val_accuracy: 0.7103 - val_loss: 1.0011\n",
      "Epoch 8/10\n",
      "500/500 - 17s - 34ms/step - accuracy: 0.9219 - loss: 0.1754 - val_accuracy: 0.7132 - val_loss: 1.1482\n",
      "Epoch 9/10\n",
      "500/500 - 17s - 34ms/step - accuracy: 0.9294 - loss: 0.1568 - val_accuracy: 0.7100 - val_loss: 1.3641\n",
      "Epoch 10/10\n",
      "500/500 - 17s - 34ms/step - accuracy: 0.9335 - loss: 0.1445 - val_accuracy: 0.7030 - val_loss: 1.3122\n",
      "Training model with 1 hidden layers and 8 hidden units per layer...\n",
      "Epoch 1/10\n",
      "500/500 - 18s - 37ms/step - accuracy: 0.7003 - loss: 0.5699 - val_accuracy: 0.7520 - val_loss: 0.5128\n",
      "Epoch 2/10\n",
      "500/500 - 17s - 34ms/step - accuracy: 0.7943 - loss: 0.4483 - val_accuracy: 0.7440 - val_loss: 0.5262\n",
      "Epoch 3/10\n",
      "500/500 - 17s - 34ms/step - accuracy: 0.8259 - loss: 0.3921 - val_accuracy: 0.7405 - val_loss: 0.5484\n",
      "Epoch 4/10\n",
      "500/500 - 17s - 34ms/step - accuracy: 0.8450 - loss: 0.3595 - val_accuracy: 0.7205 - val_loss: 0.6008\n",
      "Epoch 5/10\n",
      "500/500 - 17s - 34ms/step - accuracy: 0.8730 - loss: 0.2891 - val_accuracy: 0.7205 - val_loss: 0.7049\n",
      "Epoch 6/10\n",
      "500/500 - 17s - 34ms/step - accuracy: 0.8916 - loss: 0.2445 - val_accuracy: 0.7150 - val_loss: 0.8469\n",
      "Epoch 7/10\n",
      "500/500 - 17s - 35ms/step - accuracy: 0.9066 - loss: 0.2086 - val_accuracy: 0.7035 - val_loss: 0.8980\n",
      "Epoch 8/10\n",
      "500/500 - 17s - 34ms/step - accuracy: 0.9167 - loss: 0.1853 - val_accuracy: 0.7080 - val_loss: 1.0521\n",
      "Epoch 9/10\n",
      "500/500 - 17s - 34ms/step - accuracy: 0.9237 - loss: 0.1678 - val_accuracy: 0.7072 - val_loss: 1.1747\n",
      "Epoch 10/10\n",
      "500/500 - 17s - 34ms/step - accuracy: 0.9331 - loss: 0.1497 - val_accuracy: 0.6970 - val_loss: 1.3320\n",
      "Training model with 1 hidden layers and 16 hidden units per layer...\n",
      "Epoch 1/10\n",
      "500/500 - 18s - 37ms/step - accuracy: 0.7053 - loss: 0.5658 - val_accuracy: 0.7460 - val_loss: 0.5183\n",
      "Epoch 2/10\n",
      "500/500 - 17s - 34ms/step - accuracy: 0.7944 - loss: 0.4480 - val_accuracy: 0.7423 - val_loss: 0.5235\n",
      "Epoch 3/10\n",
      "500/500 - 17s - 34ms/step - accuracy: 0.8248 - loss: 0.3939 - val_accuracy: 0.7322 - val_loss: 0.5705\n",
      "Epoch 4/10\n",
      "500/500 - 17s - 34ms/step - accuracy: 0.8438 - loss: 0.3421 - val_accuracy: 0.7275 - val_loss: 0.6350\n",
      "Epoch 5/10\n",
      "500/500 - 17s - 34ms/step - accuracy: 0.8708 - loss: 0.2883 - val_accuracy: 0.7253 - val_loss: 0.7338\n",
      "Epoch 6/10\n",
      "500/500 - 17s - 34ms/step - accuracy: 0.8948 - loss: 0.2365 - val_accuracy: 0.7117 - val_loss: 0.8730\n",
      "Epoch 7/10\n",
      "500/500 - 17s - 34ms/step - accuracy: 0.9114 - loss: 0.2000 - val_accuracy: 0.7090 - val_loss: 0.9787\n",
      "Epoch 8/10\n",
      "500/500 - 17s - 34ms/step - accuracy: 0.9227 - loss: 0.1726 - val_accuracy: 0.7042 - val_loss: 1.1181\n",
      "Epoch 9/10\n",
      "500/500 - 17s - 34ms/step - accuracy: 0.9341 - loss: 0.1487 - val_accuracy: 0.7040 - val_loss: 1.2467\n",
      "Epoch 10/10\n",
      "500/500 - 17s - 34ms/step - accuracy: 0.9402 - loss: 0.1338 - val_accuracy: 0.7030 - val_loss: 1.3945\n",
      "Training model with 1 hidden layers and 32 hidden units per layer...\n",
      "Epoch 1/10\n",
      "500/500 - 19s - 37ms/step - accuracy: 0.7084 - loss: 0.5614 - val_accuracy: 0.7462 - val_loss: 0.5128\n",
      "Epoch 2/10\n",
      "500/500 - 17s - 34ms/step - accuracy: 0.7942 - loss: 0.4440 - val_accuracy: 0.7412 - val_loss: 0.5276\n",
      "Epoch 3/10\n",
      "500/500 - 17s - 34ms/step - accuracy: 0.8167 - loss: 0.4054 - val_accuracy: 0.7430 - val_loss: 0.5504\n",
      "Epoch 4/10\n",
      "500/500 - 17s - 34ms/step - accuracy: 0.8459 - loss: 0.3428 - val_accuracy: 0.7333 - val_loss: 0.6163\n",
      "Epoch 5/10\n",
      "500/500 - 17s - 34ms/step - accuracy: 0.8698 - loss: 0.2881 - val_accuracy: 0.7222 - val_loss: 0.7515\n",
      "Epoch 6/10\n",
      "500/500 - 17s - 34ms/step - accuracy: 0.8925 - loss: 0.2384 - val_accuracy: 0.7145 - val_loss: 0.9009\n",
      "Epoch 7/10\n",
      "500/500 - 17s - 34ms/step - accuracy: 0.9082 - loss: 0.1997 - val_accuracy: 0.7113 - val_loss: 1.1242\n",
      "Epoch 8/10\n",
      "500/500 - 17s - 34ms/step - accuracy: 0.9239 - loss: 0.1721 - val_accuracy: 0.7085 - val_loss: 1.2250\n",
      "Epoch 9/10\n",
      "500/500 - 17s - 34ms/step - accuracy: 0.9347 - loss: 0.1490 - val_accuracy: 0.7072 - val_loss: 1.3815\n",
      "Epoch 10/10\n",
      "500/500 - 17s - 34ms/step - accuracy: 0.9436 - loss: 0.1341 - val_accuracy: 0.7013 - val_loss: 1.4097\n",
      "Training model with 2 hidden layers and 4 hidden units per layer...\n",
      "Epoch 1/10\n",
      "500/500 - 18s - 37ms/step - accuracy: 0.6722 - loss: 0.6169 - val_accuracy: 0.7400 - val_loss: 0.5500\n",
      "Epoch 2/10\n",
      "500/500 - 17s - 34ms/step - accuracy: 0.7834 - loss: 0.4833 - val_accuracy: 0.7393 - val_loss: 0.5447\n",
      "Epoch 3/10\n",
      "500/500 - 17s - 34ms/step - accuracy: 0.8149 - loss: 0.4316 - val_accuracy: 0.7372 - val_loss: 0.5608\n",
      "Epoch 4/10\n",
      "500/500 - 17s - 34ms/step - accuracy: 0.8384 - loss: 0.3892 - val_accuracy: 0.7305 - val_loss: 0.5815\n",
      "Epoch 5/10\n",
      "500/500 - 17s - 34ms/step - accuracy: 0.8599 - loss: 0.3500 - val_accuracy: 0.7272 - val_loss: 0.6342\n",
      "Epoch 6/10\n",
      "500/500 - 17s - 34ms/step - accuracy: 0.8739 - loss: 0.3061 - val_accuracy: 0.7278 - val_loss: 0.6932\n",
      "Epoch 7/10\n",
      "500/500 - 17s - 34ms/step - accuracy: 0.8873 - loss: 0.2676 - val_accuracy: 0.7255 - val_loss: 0.7252\n",
      "Epoch 8/10\n",
      "500/500 - 17s - 34ms/step - accuracy: 0.8969 - loss: 0.2353 - val_accuracy: 0.7253 - val_loss: 0.7760\n",
      "Epoch 9/10\n",
      "500/500 - 17s - 34ms/step - accuracy: 0.9021 - loss: 0.2095 - val_accuracy: 0.7232 - val_loss: 0.8954\n",
      "Epoch 10/10\n",
      "500/500 - 17s - 34ms/step - accuracy: 0.9069 - loss: 0.1902 - val_accuracy: 0.7222 - val_loss: 0.9978\n",
      "Training model with 2 hidden layers and 8 hidden units per layer...\n",
      "Epoch 1/10\n",
      "500/500 - 19s - 37ms/step - accuracy: 0.5034 - loss: 0.6930 - val_accuracy: 0.4945 - val_loss: 0.6935\n",
      "Epoch 2/10\n",
      "500/500 - 17s - 34ms/step - accuracy: 0.5089 - loss: 0.6930 - val_accuracy: 0.4945 - val_loss: 0.6935\n",
      "Epoch 3/10\n",
      "500/500 - 17s - 34ms/step - accuracy: 0.5089 - loss: 0.6930 - val_accuracy: 0.4945 - val_loss: 0.6936\n",
      "Epoch 4/10\n",
      "500/500 - 17s - 34ms/step - accuracy: 0.5794 - loss: 0.6505 - val_accuracy: 0.7320 - val_loss: 0.5446\n",
      "Epoch 5/10\n",
      "500/500 - 17s - 34ms/step - accuracy: 0.7706 - loss: 0.4845 - val_accuracy: 0.7462 - val_loss: 0.5147\n",
      "Epoch 6/10\n",
      "500/500 - 17s - 34ms/step - accuracy: 0.8133 - loss: 0.4049 - val_accuracy: 0.7418 - val_loss: 0.5379\n",
      "Epoch 7/10\n",
      "500/500 - 17s - 34ms/step - accuracy: 0.8407 - loss: 0.3385 - val_accuracy: 0.7355 - val_loss: 0.5990\n",
      "Epoch 8/10\n",
      "500/500 - 17s - 33ms/step - accuracy: 0.8692 - loss: 0.2758 - val_accuracy: 0.7272 - val_loss: 0.6951\n",
      "Epoch 9/10\n",
      "500/500 - 17s - 33ms/step - accuracy: 0.8951 - loss: 0.2245 - val_accuracy: 0.7105 - val_loss: 0.8378\n",
      "Epoch 10/10\n",
      "500/500 - 17s - 34ms/step - accuracy: 0.9137 - loss: 0.1869 - val_accuracy: 0.7057 - val_loss: 0.9683\n",
      "Training model with 2 hidden layers and 16 hidden units per layer...\n",
      "Epoch 1/10\n",
      "500/500 - 19s - 37ms/step - accuracy: 0.7062 - loss: 0.5688 - val_accuracy: 0.7480 - val_loss: 0.5219\n",
      "Epoch 2/10\n",
      "500/500 - 17s - 34ms/step - accuracy: 0.7941 - loss: 0.4505 - val_accuracy: 0.7340 - val_loss: 0.5375\n",
      "Epoch 3/10\n",
      "500/500 - 17s - 34ms/step - accuracy: 0.8265 - loss: 0.3975 - val_accuracy: 0.7303 - val_loss: 0.5805\n",
      "Epoch 4/10\n",
      "500/500 - 17s - 33ms/step - accuracy: 0.8531 - loss: 0.3419 - val_accuracy: 0.7182 - val_loss: 0.6127\n",
      "Epoch 5/10\n",
      "500/500 - 17s - 33ms/step - accuracy: 0.8775 - loss: 0.2804 - val_accuracy: 0.7160 - val_loss: 0.7287\n",
      "Epoch 6/10\n",
      "500/500 - 17s - 33ms/step - accuracy: 0.9016 - loss: 0.2280 - val_accuracy: 0.7168 - val_loss: 0.9164\n",
      "Epoch 7/10\n",
      "500/500 - 17s - 33ms/step - accuracy: 0.9171 - loss: 0.1919 - val_accuracy: 0.7055 - val_loss: 1.0372\n",
      "Epoch 8/10\n",
      "500/500 - 17s - 33ms/step - accuracy: 0.9311 - loss: 0.1639 - val_accuracy: 0.7072 - val_loss: 1.1644\n",
      "Epoch 9/10\n",
      "500/500 - 17s - 33ms/step - accuracy: 0.9383 - loss: 0.1427 - val_accuracy: 0.7070 - val_loss: 1.3340\n",
      "Epoch 10/10\n",
      "500/500 - 17s - 33ms/step - accuracy: 0.9453 - loss: 0.1223 - val_accuracy: 0.7028 - val_loss: 1.5158\n",
      "Training model with 2 hidden layers and 32 hidden units per layer...\n",
      "Epoch 1/10\n",
      "500/500 - 20s - 39ms/step - accuracy: 0.7081 - loss: 0.5626 - val_accuracy: 0.7450 - val_loss: 0.5198\n",
      "Epoch 2/10\n",
      "500/500 - 17s - 35ms/step - accuracy: 0.7974 - loss: 0.4426 - val_accuracy: 0.7400 - val_loss: 0.5397\n",
      "Epoch 3/10\n",
      "500/500 - 17s - 34ms/step - accuracy: 0.8317 - loss: 0.3762 - val_accuracy: 0.7318 - val_loss: 0.6190\n",
      "Epoch 4/10\n",
      "500/500 - 839s - 2s/step - accuracy: 0.8664 - loss: 0.2992 - val_accuracy: 0.7220 - val_loss: 0.7528\n",
      "Epoch 5/10\n",
      "500/500 - 17s - 34ms/step - accuracy: 0.8989 - loss: 0.2358 - val_accuracy: 0.7168 - val_loss: 0.8841\n",
      "Epoch 6/10\n",
      "500/500 - 17s - 34ms/step - accuracy: 0.9179 - loss: 0.1938 - val_accuracy: 0.7178 - val_loss: 1.0628\n",
      "Epoch 7/10\n",
      "500/500 - 736s - 1s/step - accuracy: 0.9318 - loss: 0.1587 - val_accuracy: 0.7155 - val_loss: 1.2242\n",
      "Epoch 8/10\n",
      "500/500 - 17s - 34ms/step - accuracy: 0.9444 - loss: 0.1324 - val_accuracy: 0.6990 - val_loss: 1.4105\n",
      "Epoch 9/10\n",
      "500/500 - 17s - 33ms/step - accuracy: 0.9496 - loss: 0.1176 - val_accuracy: 0.7010 - val_loss: 1.4327\n",
      "Epoch 10/10\n",
      "500/500 - 17s - 33ms/step - accuracy: 0.9554 - loss: 0.1077 - val_accuracy: 0.7097 - val_loss: 1.4149\n",
      "Training model with 3 hidden layers and 4 hidden units per layer...\n",
      "Epoch 1/10\n",
      "500/500 - 19s - 38ms/step - accuracy: 0.6886 - loss: 0.5856 - val_accuracy: 0.7412 - val_loss: 0.5315\n",
      "Epoch 2/10\n",
      "500/500 - 17s - 34ms/step - accuracy: 0.7902 - loss: 0.4610 - val_accuracy: 0.7412 - val_loss: 0.5411\n",
      "Epoch 3/10\n",
      "500/500 - 17s - 34ms/step - accuracy: 0.8213 - loss: 0.4082 - val_accuracy: 0.7340 - val_loss: 0.5534\n",
      "Epoch 4/10\n",
      "500/500 - 17s - 35ms/step - accuracy: 0.8447 - loss: 0.3642 - val_accuracy: 0.7305 - val_loss: 0.5969\n",
      "Epoch 5/10\n",
      "500/500 - 17s - 35ms/step - accuracy: 0.8680 - loss: 0.3123 - val_accuracy: 0.7260 - val_loss: 0.6940\n",
      "Epoch 6/10\n",
      "500/500 - 17s - 34ms/step - accuracy: 0.8884 - loss: 0.2587 - val_accuracy: 0.7230 - val_loss: 0.7620\n",
      "Epoch 7/10\n",
      "500/500 - 17s - 35ms/step - accuracy: 0.9050 - loss: 0.2195 - val_accuracy: 0.7122 - val_loss: 0.8464\n",
      "Epoch 8/10\n",
      "500/500 - 17s - 34ms/step - accuracy: 0.9192 - loss: 0.1896 - val_accuracy: 0.7180 - val_loss: 1.0536\n",
      "Epoch 9/10\n",
      "500/500 - 17s - 34ms/step - accuracy: 0.9257 - loss: 0.1676 - val_accuracy: 0.7048 - val_loss: 1.1010\n",
      "Epoch 10/10\n",
      "500/500 - 17s - 34ms/step - accuracy: 0.9343 - loss: 0.1474 - val_accuracy: 0.7085 - val_loss: 1.2917\n",
      "Training model with 3 hidden layers and 8 hidden units per layer...\n",
      "Epoch 1/10\n",
      "500/500 - 20s - 39ms/step - accuracy: 0.6868 - loss: 0.6009 - val_accuracy: 0.7347 - val_loss: 0.5347\n",
      "Epoch 2/10\n",
      "500/500 - 17s - 34ms/step - accuracy: 0.7847 - loss: 0.4644 - val_accuracy: 0.7412 - val_loss: 0.5208\n",
      "Epoch 3/10\n",
      "500/500 - 17s - 35ms/step - accuracy: 0.8209 - loss: 0.3976 - val_accuracy: 0.7352 - val_loss: 0.5641\n",
      "Epoch 4/10\n",
      "500/500 - 17s - 34ms/step - accuracy: 0.8539 - loss: 0.3311 - val_accuracy: 0.7275 - val_loss: 0.6196\n",
      "Epoch 5/10\n",
      "500/500 - 17s - 35ms/step - accuracy: 0.8794 - loss: 0.2703 - val_accuracy: 0.7132 - val_loss: 0.7542\n",
      "Epoch 6/10\n",
      "500/500 - 17s - 34ms/step - accuracy: 0.8984 - loss: 0.2268 - val_accuracy: 0.7092 - val_loss: 0.9051\n",
      "Epoch 7/10\n",
      "500/500 - 17s - 34ms/step - accuracy: 0.9128 - loss: 0.1979 - val_accuracy: 0.7117 - val_loss: 1.0208\n",
      "Epoch 8/10\n",
      "500/500 - 17s - 34ms/step - accuracy: 0.9218 - loss: 0.1713 - val_accuracy: 0.6988 - val_loss: 1.2039\n",
      "Epoch 9/10\n",
      "500/500 - 17s - 35ms/step - accuracy: 0.9325 - loss: 0.1494 - val_accuracy: 0.7020 - val_loss: 1.4003\n",
      "Epoch 10/10\n",
      "500/500 - 17s - 34ms/step - accuracy: 0.9373 - loss: 0.1382 - val_accuracy: 0.7125 - val_loss: 1.4665\n",
      "Training model with 3 hidden layers and 16 hidden units per layer...\n",
      "Epoch 1/10\n",
      "500/500 - 19s - 38ms/step - accuracy: 0.6988 - loss: 0.5730 - val_accuracy: 0.7437 - val_loss: 0.5251\n",
      "Epoch 2/10\n",
      "500/500 - 17s - 34ms/step - accuracy: 0.7940 - loss: 0.4475 - val_accuracy: 0.7405 - val_loss: 0.5363\n",
      "Epoch 3/10\n",
      "500/500 - 17s - 34ms/step - accuracy: 0.8232 - loss: 0.3874 - val_accuracy: 0.7270 - val_loss: 0.5751\n",
      "Epoch 4/10\n",
      "500/500 - 17s - 34ms/step - accuracy: 0.8499 - loss: 0.3246 - val_accuracy: 0.7207 - val_loss: 0.6735\n",
      "Epoch 5/10\n",
      "500/500 - 17s - 34ms/step - accuracy: 0.8787 - loss: 0.2629 - val_accuracy: 0.7218 - val_loss: 0.8231\n",
      "Epoch 6/10\n",
      "500/500 - 17s - 34ms/step - accuracy: 0.9021 - loss: 0.2175 - val_accuracy: 0.7107 - val_loss: 0.9356\n",
      "Epoch 7/10\n",
      "500/500 - 17s - 34ms/step - accuracy: 0.9193 - loss: 0.1825 - val_accuracy: 0.7110 - val_loss: 1.1319\n",
      "Epoch 8/10\n",
      "500/500 - 17s - 34ms/step - accuracy: 0.9356 - loss: 0.1498 - val_accuracy: 0.7080 - val_loss: 1.3261\n",
      "Epoch 9/10\n",
      "500/500 - 34s - 69ms/step - accuracy: 0.9434 - loss: 0.1288 - val_accuracy: 0.6982 - val_loss: 1.3654\n",
      "Epoch 10/10\n",
      "500/500 - 18s - 35ms/step - accuracy: 0.9518 - loss: 0.1114 - val_accuracy: 0.7025 - val_loss: 1.5771\n",
      "Training model with 3 hidden layers and 32 hidden units per layer...\n",
      "Epoch 1/10\n",
      "500/500 - 61s - 122ms/step - accuracy: 0.7001 - loss: 0.5672 - val_accuracy: 0.7505 - val_loss: 0.5138\n",
      "Epoch 2/10\n",
      "500/500 - 18s - 35ms/step - accuracy: 0.7971 - loss: 0.4449 - val_accuracy: 0.7398 - val_loss: 0.5339\n",
      "Epoch 3/10\n",
      "500/500 - 18s - 35ms/step - accuracy: 0.8356 - loss: 0.3735 - val_accuracy: 0.7327 - val_loss: 0.5795\n",
      "Epoch 4/10\n",
      "500/500 - 49s - 98ms/step - accuracy: 0.8683 - loss: 0.2985 - val_accuracy: 0.7100 - val_loss: 0.6985\n",
      "Epoch 5/10\n",
      "500/500 - 18s - 35ms/step - accuracy: 0.8948 - loss: 0.2390 - val_accuracy: 0.7122 - val_loss: 0.8497\n",
      "Epoch 6/10\n",
      "500/500 - 18s - 35ms/step - accuracy: 0.9146 - loss: 0.1942 - val_accuracy: 0.7117 - val_loss: 1.0363\n",
      "Epoch 7/10\n",
      "500/500 - 32s - 63ms/step - accuracy: 0.9293 - loss: 0.1607 - val_accuracy: 0.7075 - val_loss: 1.1685\n",
      "Epoch 8/10\n",
      "500/500 - 18s - 35ms/step - accuracy: 0.9401 - loss: 0.1399 - val_accuracy: 0.7063 - val_loss: 1.3040\n",
      "Epoch 9/10\n",
      "500/500 - 88s - 177ms/step - accuracy: 0.9510 - loss: 0.1183 - val_accuracy: 0.7050 - val_loss: 1.4037\n",
      "Epoch 10/10\n",
      "500/500 - 18s - 35ms/step - accuracy: 0.9587 - loss: 0.1010 - val_accuracy: 0.7095 - val_loss: 1.5125\n",
      "Training model with 4 hidden layers and 4 hidden units per layer...\n",
      "Epoch 1/10\n",
      "500/500 - 19s - 39ms/step - accuracy: 0.6929 - loss: 0.5777 - val_accuracy: 0.7405 - val_loss: 0.5236\n",
      "Epoch 2/10\n",
      "500/500 - 275s - 550ms/step - accuracy: 0.7914 - loss: 0.4626 - val_accuracy: 0.7360 - val_loss: 0.5274\n",
      "Epoch 3/10\n",
      "500/500 - 17s - 34ms/step - accuracy: 0.8220 - loss: 0.4072 - val_accuracy: 0.7318 - val_loss: 0.5491\n",
      "Epoch 4/10\n",
      "500/500 - 17s - 34ms/step - accuracy: 0.8460 - loss: 0.3600 - val_accuracy: 0.7312 - val_loss: 0.6085\n",
      "Epoch 5/10\n",
      "500/500 - 17s - 34ms/step - accuracy: 0.8679 - loss: 0.3029 - val_accuracy: 0.7205 - val_loss: 0.7054\n",
      "Epoch 6/10\n",
      "500/500 - 17s - 33ms/step - accuracy: 0.8924 - loss: 0.2513 - val_accuracy: 0.7132 - val_loss: 0.7298\n",
      "Epoch 7/10\n",
      "500/500 - 17s - 35ms/step - accuracy: 0.9088 - loss: 0.2130 - val_accuracy: 0.7143 - val_loss: 0.8903\n",
      "Epoch 8/10\n",
      "500/500 - 17s - 34ms/step - accuracy: 0.9176 - loss: 0.1852 - val_accuracy: 0.7030 - val_loss: 1.0327\n",
      "Epoch 9/10\n",
      "500/500 - 17s - 34ms/step - accuracy: 0.9308 - loss: 0.1615 - val_accuracy: 0.7030 - val_loss: 1.1129\n",
      "Epoch 10/10\n",
      "500/500 - 17s - 34ms/step - accuracy: 0.9367 - loss: 0.1452 - val_accuracy: 0.7057 - val_loss: 1.2651\n",
      "Training model with 4 hidden layers and 8 hidden units per layer...\n",
      "Epoch 1/10\n",
      "500/500 - 19s - 38ms/step - accuracy: 0.6862 - loss: 0.5894 - val_accuracy: 0.7383 - val_loss: 0.5240\n",
      "Epoch 2/10\n",
      "500/500 - 17s - 34ms/step - accuracy: 0.7905 - loss: 0.4596 - val_accuracy: 0.7400 - val_loss: 0.5219\n",
      "Epoch 3/10\n",
      "500/500 - 17s - 34ms/step - accuracy: 0.8226 - loss: 0.4047 - val_accuracy: 0.7340 - val_loss: 0.5490\n",
      "Epoch 4/10\n",
      "500/500 - 17s - 34ms/step - accuracy: 0.8530 - loss: 0.3535 - val_accuracy: 0.7230 - val_loss: 0.6209\n",
      "Epoch 5/10\n",
      "500/500 - 17s - 35ms/step - accuracy: 0.8781 - loss: 0.2982 - val_accuracy: 0.7205 - val_loss: 0.6465\n",
      "Epoch 6/10\n",
      "500/500 - 17s - 35ms/step - accuracy: 0.9020 - loss: 0.2448 - val_accuracy: 0.7182 - val_loss: 0.7601\n",
      "Epoch 7/10\n",
      "500/500 - 17s - 34ms/step - accuracy: 0.9209 - loss: 0.1971 - val_accuracy: 0.7078 - val_loss: 0.8295\n",
      "Epoch 8/10\n",
      "500/500 - 17s - 34ms/step - accuracy: 0.9352 - loss: 0.1630 - val_accuracy: 0.7030 - val_loss: 1.0242\n",
      "Epoch 9/10\n",
      "500/500 - 17s - 34ms/step - accuracy: 0.9404 - loss: 0.1437 - val_accuracy: 0.7007 - val_loss: 1.1938\n",
      "Epoch 10/10\n",
      "500/500 - 17s - 34ms/step - accuracy: 0.9486 - loss: 0.1255 - val_accuracy: 0.6998 - val_loss: 1.2425\n",
      "Training model with 4 hidden layers and 16 hidden units per layer...\n",
      "Epoch 1/10\n",
      "500/500 - 19s - 38ms/step - accuracy: 0.6969 - loss: 0.5784 - val_accuracy: 0.7423 - val_loss: 0.5214\n",
      "Epoch 2/10\n",
      "500/500 - 17s - 34ms/step - accuracy: 0.7948 - loss: 0.4494 - val_accuracy: 0.7405 - val_loss: 0.5251\n",
      "Epoch 3/10\n",
      "500/500 - 17s - 35ms/step - accuracy: 0.8223 - loss: 0.3963 - val_accuracy: 0.7310 - val_loss: 0.5785\n",
      "Epoch 4/10\n",
      "500/500 - 17s - 34ms/step - accuracy: 0.8432 - loss: 0.3419 - val_accuracy: 0.7168 - val_loss: 0.6176\n",
      "Epoch 5/10\n",
      "500/500 - 17s - 34ms/step - accuracy: 0.8699 - loss: 0.2862 - val_accuracy: 0.7155 - val_loss: 0.7311\n",
      "Epoch 6/10\n",
      "500/500 - 17s - 34ms/step - accuracy: 0.8976 - loss: 0.2362 - val_accuracy: 0.7155 - val_loss: 0.8916\n",
      "Epoch 7/10\n",
      "500/500 - 17s - 34ms/step - accuracy: 0.9169 - loss: 0.1983 - val_accuracy: 0.6942 - val_loss: 0.9197\n",
      "Epoch 8/10\n",
      "500/500 - 17s - 34ms/step - accuracy: 0.9333 - loss: 0.1649 - val_accuracy: 0.7078 - val_loss: 1.1887\n",
      "Epoch 9/10\n",
      "500/500 - 17s - 34ms/step - accuracy: 0.9421 - loss: 0.1427 - val_accuracy: 0.7032 - val_loss: 1.2293\n",
      "Epoch 10/10\n",
      "500/500 - 17s - 34ms/step - accuracy: 0.9486 - loss: 0.1251 - val_accuracy: 0.7045 - val_loss: 1.3919\n",
      "Training model with 4 hidden layers and 32 hidden units per layer...\n",
      "Epoch 1/10\n",
      "500/500 - 19s - 38ms/step - accuracy: 0.7048 - loss: 0.5647 - val_accuracy: 0.7435 - val_loss: 0.5382\n",
      "Epoch 2/10\n",
      "500/500 - 17s - 34ms/step - accuracy: 0.7981 - loss: 0.4453 - val_accuracy: 0.7375 - val_loss: 0.5327\n",
      "Epoch 3/10\n",
      "500/500 - 17s - 34ms/step - accuracy: 0.8295 - loss: 0.3807 - val_accuracy: 0.7247 - val_loss: 0.6085\n",
      "Epoch 4/10\n",
      "500/500 - 17s - 34ms/step - accuracy: 0.8668 - loss: 0.3051 - val_accuracy: 0.7218 - val_loss: 0.6974\n",
      "Epoch 5/10\n",
      "500/500 - 17s - 34ms/step - accuracy: 0.8964 - loss: 0.2411 - val_accuracy: 0.7197 - val_loss: 0.7856\n",
      "Epoch 6/10\n",
      "500/500 - 17s - 34ms/step - accuracy: 0.9154 - loss: 0.1969 - val_accuracy: 0.7130 - val_loss: 1.0059\n",
      "Epoch 7/10\n",
      "500/500 - 17s - 34ms/step - accuracy: 0.9333 - loss: 0.1624 - val_accuracy: 0.7092 - val_loss: 1.1465\n",
      "Epoch 8/10\n",
      "500/500 - 17s - 34ms/step - accuracy: 0.9421 - loss: 0.1390 - val_accuracy: 0.7103 - val_loss: 1.2574\n",
      "Epoch 9/10\n",
      "500/500 - 17s - 34ms/step - accuracy: 0.9487 - loss: 0.1228 - val_accuracy: 0.6990 - val_loss: 1.2598\n",
      "Epoch 10/10\n",
      "500/500 - 17s - 34ms/step - accuracy: 0.9552 - loss: 0.1049 - val_accuracy: 0.7000 - val_loss: 1.4076\n"
     ]
    }
   ],
   "execution_count": 27
  },
  {
   "metadata": {
    "ExecuteTime": {
     "end_time": "2025-03-24T04:29:20.362238Z",
     "start_time": "2025-03-24T04:29:20.045645Z"
    }
   },
   "cell_type": "code",
   "source": [
    "colors = ['red', 'orange', 'green', 'blue']\n",
    "\n",
    "plt.figure(figsize=(12, 5))\n",
    "\n",
    "for i, hl in enumerate(hidden_layers_list):\n",
    "    train_acc = [results[(hl, hu)]['train_acc'] for hu in hidden_units_list]\n",
    "    plt.plot(hidden_units_list, train_acc, marker='o', linestyle='-', color=colors[i], label=f\"{hl}\")\n",
    "plt.xlabel(\"Number of hidden units\")\n",
    "plt.ylabel(\"Accuracy\")\n",
    "plt.title(\"Train Accuracy\")\n",
    "plt.legend(title=\"Hidden Layers\")\n",
    "plt.show()\n",
    "\n",
    "plt.figure(figsize=(12, 5))\n",
    "for i, hl in enumerate(hidden_layers_list):\n",
    "    test_acc = [results[(hl, hu)]['test_acc'] for hu in hidden_units_list]\n",
    "    plt.plot(hidden_units_list, test_acc, marker='o', linestyle='-', color=colors[i], label=f\"{hl}\")\n",
    "plt.xlabel(\"Number of hidden units\")\n",
    "plt.ylabel(\"Accuracy\")\n",
    "plt.title(\"Test Accuracy\")\n",
    "plt.legend(title=\"Hidden Layers\")\n",
    "plt.show()\n",
    "\n",
    "plt.figure(figsize=(8, 6))\n",
    "for i, hl in enumerate(hidden_layers_list):\n",
    "    params = [params_history[(hl, hu)] for hu in hidden_units_list]\n",
    "    plt.plot(hidden_units_list, params, marker='o', linestyle='-', color=colors[i], label=f\"{hl}\")\n",
    "plt.xlabel(\"Number of hidden units\")\n",
    "plt.ylabel(\"Trainable Parameters\")\n",
    "plt.title(\"Model Parameters\")\n",
    "plt.legend(title=\"Hidden Layers\")\n",
    "plt.show()\n"
   ],
   "outputs": [
    {
     "data": {
      "text/plain": [
       "<Figure size 1200x500 with 1 Axes>"
      ],
      "image/png": "[encoded data removed]"
     },
     "metadata": {},
     "output_type": "display_data"
    },
    {
     "data": {
      "text/plain": [
       "<Figure size 1200x500 with 1 Axes>"
      ],
      "image/png": "[encoded data removed]"
     },
     "metadata": {},
     "output_type": "display_data"
    },
    {
     "data": {
      "text/plain": [
       "<Figure size 800x600 with 1 Axes>"
      ],
      "image/png": "[encoded data removed]"
     },
     "metadata": {},
     "output_type": "display_data"
    }
   ],
   "execution_count": 28
  },
  {
   "metadata": {
    "ExecuteTime": {
     "end_time": "2025-03-24T04:29:20.367944Z",
     "start_time": "2025-03-24T04:29:20.366203Z"
    }
   },
   "cell_type": "code",
   "source": "",
   "outputs": [],
   "execution_count": null
  },
  {
   "metadata": {},
   "cell_type": "markdown",
   "source": ""
  }
 ],
 "metadata": {
  "colab": {
   "authorship_tag": "ABX9TyNNag92UMCy1GtgfJ+zFFU1",
   "collapsed_sections": [],
   "name": "DUDL_FFN_aboutMNIST.ipynb",
   "provenance": [
    {
     "file_id": "15cpyHkJ435B4MqbyGjAH1poN4nCy_DE4",
     "timestamp": 1617737766196
    },
    {
     "file_id": "1OLuWuaFu0hcFgkQ2hh5BqbRuqUZD7XcQ",
     "timestamp": 1617734878578
    },
    {
     "file_id": "1XvzVGJPTJifVh8OpZVB7ykLxyUqYwQ1j",
     "timestamp": 1617196833019
    },
    {
     "file_id": "1bv1_y32e3KEExFKKlPfC3rpw1JxmBr8H",
     "timestamp": 1617124341706
    },
    {
     "file_id": "1GMq8u7KyHB2AE7Teyls9gK1T01OduQSn",
     "timestamp": 1616697516760
    },
    {
     "file_id": "1Ui3kyHim-e0XLgDs2mkBxVlYg7TKYtcg",
     "timestamp": 1616615469755
    },
    {
     "file_id": "1YpHocGI4rApOxIBb1ZghCU5L-hFnv4CK",
     "timestamp": 1616608248670
    }
   ]
  },
  "kernelspec": {
   "display_name": "Python (newpipenv)",
   "language": "python",
   "name": "newpipenv"
  },
  "language_info": {
   "codemirror_mode": {
    "name": "ipython",
    "version": 3
   },
   "file_extension": ".py",
   "mimetype": "text/x-python",
   "name": "python",
   "nbconvert_exporter": "python",
   "pygments_lexer": "ipython3",
   "version": "3.10.9"
  }
 },
 "nbformat": 4,
 "nbformat_minor": 1
}
